{
 "cells": [
  {
   "cell_type": "markdown",
   "metadata": {},
   "source": [
    "## Importing the required libraries"
   ]
  },
  {
   "cell_type": "code",
   "execution_count": 1,
   "metadata": {},
   "outputs": [],
   "source": [
    "import librosa\n",
    "import librosa.display\n",
    "import numpy as np\n",
    "import matplotlib.pyplot as plt\n",
    "import tensorflow as tf\n",
    "from matplotlib.pyplot import specgram\n",
    "import keras\n",
    "from keras.preprocessing import sequence\n",
    "from keras.models import Sequential\n",
    "from keras.layers import Dense, Embedding\n",
    "from keras.layers import LSTM\n",
    "from keras.preprocessing.text import Tokenizer\n",
    "from keras.preprocessing.sequence import pad_sequences\n",
    "from keras.utils import to_categorical\n",
    "from keras.layers import Input, Flatten, Dropout, Activation\n",
    "from keras.layers import Conv1D, MaxPooling1D, AveragePooling1D\n",
    "from keras.models import Model\n",
    "from keras.callbacks import ModelCheckpoint\n",
    "from sklearn.metrics import confusion_matrix\n",
    "import os\n",
    "from keras import regularizers"
   ]
  },
  {
   "cell_type": "code",
   "execution_count": 43,
   "metadata": {
    "scrolled": true
   },
   "outputs": [
    {
     "name": "stdout",
     "output_type": "stream",
     "text": [
      "Populating the interactive namespace from numpy and matplotlib\n"
     ]
    },
    {
     "name": "stderr",
     "output_type": "stream",
     "text": [
      "C:\\Users\\20194998\\Anaconda3\\lib\\site-packages\\IPython\\core\\magics\\pylab.py:159: UserWarning: pylab import has clobbered these variables: ['test', 'shuffle']\n",
      "`%matplotlib` prevents importing * from pylab and numpy\n",
      "  warn(\"pylab import has clobbered these variables: %s\"  % clobbered +\n"
     ]
    }
   ],
   "source": [
    "%pylab inline\n",
    "import pandas as pd\n",
    "import librosa\n",
    "import glob \n",
    "from keras.callbacks import EarlyStopping"
   ]
  },
  {
   "cell_type": "markdown",
   "metadata": {},
   "source": [
    "## Link to dataset"
   ]
  },
  {
   "cell_type": "markdown",
   "metadata": {},
   "source": [
    "https://tuenl.sharepoint.com/sites/gad_cbo/JPC/MC/ESA%20PDEng%20ST%20Project/Forms/AllItems.aspx?viewid=235c9f56%2Db4dc%2D418e%2D8800%2Dd0cde58fff30&id=%2Fsites%2Fgad%5Fcbo%2FJPC%2FMC%2FESA%20PDEng%20ST%20Project%2FModelsAndData%2FAudio%2FDevelopment%2Fdata%2Ftone%5Fcnn%5Fhappy%5Fangry%5Fdataset"
   ]
  },
  {
   "cell_type": "code",
   "execution_count": 15,
   "metadata": {},
   "outputs": [],
   "source": [
    "# Walking a directory tree and printing the names of the directories and files\n",
    "mylist=[]\n",
    "mydiclist={}\n",
    "base_path='D:\\\\Projects\\\\ESA\\Dataset\\\\Audio_Speech_Actors_01-24'\n",
    "for dirpath, dirnames, files in os.walk(base_path):\n",
    "    for file_name in files:\n",
    "        if file_name.endswith('.wav'):\n",
    "            mydiclist[file_name]= dirpath\n",
    "            mylist.append(file_name)"
   ]
  },
  {
   "cell_type": "code",
   "execution_count": 3,
   "metadata": {},
   "outputs": [],
   "source": [
    "#from pathlib import Path\n",
    "#curr_path = os.getcwd()\n",
    "#crr_path = Path(curr_path)\n",
    "#parent_path = crr_path.parent\n",
    "#path = str(parent_path) +  '\\\\Actor_01\\\\'\n",
    "#mylist= os.listdir(path)\n",
    "#print(type(mylist))"
   ]
  },
  {
   "cell_type": "markdown",
   "metadata": {},
   "source": [
    "## Setting the labels"
   ]
  },
  {
   "cell_type": "code",
   "execution_count": 16,
   "metadata": {},
   "outputs": [],
   "source": [
    "feeling_list=[]\n",
    "#for item in mylist:\n",
    "#    if item[6:-16]=='03':\n",
    "#        feeling_list.append('Happy')\n",
    "#    elif item[6:-16]=='05':\n",
    "#        feeling_list.append('Angry')\n",
    "        \n",
    "# (01 = neutral, 02 = calm, 03 = happy, 04 = sad, 05 = angry, 06 = fearful, 07 = disgust, 08 = surprised).        \n",
    "        \n",
    "feeling_list=[]\n",
    "for item in mylist:\n",
    "    if item[6:-16]=='01':\n",
    "        feeling_list.append('neutral')\n",
    "    if item[6:-16]=='02':\n",
    "        feeling_list.append('calm')\n",
    "    elif item[6:-16]=='03':\n",
    "        feeling_list.append('Happy')\n",
    "    elif item[6:-16]=='04':\n",
    "        feeling_list.append('sad')\n",
    "    elif item[6:-16]=='05':\n",
    "        feeling_list.append('angry')\n",
    "    elif item[6:-16]=='06':\n",
    "        feeling_list.append('fearful')\n",
    "    elif item[6:-16]=='07': \n",
    "        feeling_list.append('disgust')\n",
    "    elif item[6:-16]=='08': \n",
    "        feeling_list.append('surprised')\n",
    "   "
   ]
  },
  {
   "cell_type": "code",
   "execution_count": 17,
   "metadata": {},
   "outputs": [],
   "source": [
    "labels = pd.DataFrame(feeling_list)"
   ]
  },
  {
   "cell_type": "code",
   "execution_count": 18,
   "metadata": {
    "scrolled": true
   },
   "outputs": [
    {
     "data": {
      "text/html": [
       "<div>\n",
       "<style scoped>\n",
       "    .dataframe tbody tr th:only-of-type {\n",
       "        vertical-align: middle;\n",
       "    }\n",
       "\n",
       "    .dataframe tbody tr th {\n",
       "        vertical-align: top;\n",
       "    }\n",
       "\n",
       "    .dataframe thead th {\n",
       "        text-align: right;\n",
       "    }\n",
       "</style>\n",
       "<table border=\"1\" class=\"dataframe\">\n",
       "  <thead>\n",
       "    <tr style=\"text-align: right;\">\n",
       "      <th></th>\n",
       "      <th>0</th>\n",
       "    </tr>\n",
       "  </thead>\n",
       "  <tbody>\n",
       "    <tr>\n",
       "      <th>0</th>\n",
       "      <td>calm</td>\n",
       "    </tr>\n",
       "    <tr>\n",
       "      <th>1</th>\n",
       "      <td>neutral</td>\n",
       "    </tr>\n",
       "    <tr>\n",
       "      <th>2</th>\n",
       "      <td>neutral</td>\n",
       "    </tr>\n",
       "    <tr>\n",
       "      <th>3</th>\n",
       "      <td>neutral</td>\n",
       "    </tr>\n",
       "    <tr>\n",
       "      <th>4</th>\n",
       "      <td>neutral</td>\n",
       "    </tr>\n",
       "    <tr>\n",
       "      <th>...</th>\n",
       "      <td>...</td>\n",
       "    </tr>\n",
       "    <tr>\n",
       "      <th>1436</th>\n",
       "      <td>surprised</td>\n",
       "    </tr>\n",
       "    <tr>\n",
       "      <th>1437</th>\n",
       "      <td>surprised</td>\n",
       "    </tr>\n",
       "    <tr>\n",
       "      <th>1438</th>\n",
       "      <td>surprised</td>\n",
       "    </tr>\n",
       "    <tr>\n",
       "      <th>1439</th>\n",
       "      <td>surprised</td>\n",
       "    </tr>\n",
       "    <tr>\n",
       "      <th>1440</th>\n",
       "      <td>surprised</td>\n",
       "    </tr>\n",
       "  </tbody>\n",
       "</table>\n",
       "<p>1441 rows × 1 columns</p>\n",
       "</div>"
      ],
      "text/plain": [
       "              0\n",
       "0          calm\n",
       "1       neutral\n",
       "2       neutral\n",
       "3       neutral\n",
       "4       neutral\n",
       "...         ...\n",
       "1436  surprised\n",
       "1437  surprised\n",
       "1438  surprised\n",
       "1439  surprised\n",
       "1440  surprised\n",
       "\n",
       "[1441 rows x 1 columns]"
      ]
     },
     "execution_count": 18,
     "metadata": {},
     "output_type": "execute_result"
    }
   ],
   "source": [
    "labels[:]"
   ]
  },
  {
   "cell_type": "markdown",
   "metadata": {},
   "source": [
    "## Getting the features of audio files using librosa"
   ]
  },
  {
   "cell_type": "code",
   "execution_count": 21,
   "metadata": {},
   "outputs": [],
   "source": [
    "df = pd.DataFrame(columns=['feature'])\n",
    "bookmark=0\n",
    "for index,y in enumerate(mylist):\n",
    "    X, sample_rate = librosa.load(mydiclist[y]+'\\\\'+y, res_type='kaiser_fast',duration=2.5,sr=22050*2,offset=0.5)\n",
    "    sample_rate = np.array(sample_rate)\n",
    "    mfccs = np.mean(librosa.feature.mfcc(y=X,sr=sample_rate,n_mfcc=13),\n",
    "                        axis=0)\n",
    "    feature = mfccs\n",
    "    #[float(i) for i in feature]\n",
    "    df.loc[bookmark] = [feature]\n",
    "    bookmark=bookmark+1    "
   ]
  },
  {
   "cell_type": "code",
   "execution_count": null,
   "metadata": {},
   "outputs": [],
   "source": [
    "#df = pd.DataFrame(columns=['feature'])\n",
    "#bookmark=0\n",
    "#for index,y in enumerate(mylist):\n",
    "#    if mylist[index][6:-16]!='01' and mylist[index][6:-16]!='07' and mylist[index][6:-16]!='08' and mylist[index][:2]!='su' and mylist[index][:1]!='n' and mylist[index][:1]!='d':\n",
    "#        X, sample_rate = librosa.load(path+y, res_type='kaiser_fast',duration=2.5,sr=22050*2,offset=0.5)\n",
    "#        sample_rate = np.array(sample_rate)\n",
    "#        mfccs = np.mean(librosa.feature.mfcc(y=X, \n",
    "#                                            sr=sample_rate, \n",
    "#                                            n_mfcc=13),\n",
    "#                        axis=0)\n",
    "#        feature = mfccs\n",
    "#        #[float(i) for i in feature]\n",
    "#        df.loc[bookmark] = [feature]\n",
    "#        bookmark=bookmark+1        "
   ]
  },
  {
   "cell_type": "code",
   "execution_count": 22,
   "metadata": {},
   "outputs": [],
   "source": [
    "df3 = pd.DataFrame(df['feature'].values.tolist())"
   ]
  },
  {
   "cell_type": "code",
   "execution_count": 23,
   "metadata": {},
   "outputs": [],
   "source": [
    "newdf = pd.concat([df3,labels], axis=1)"
   ]
  },
  {
   "cell_type": "code",
   "execution_count": 24,
   "metadata": {},
   "outputs": [],
   "source": [
    "rnewdf = newdf.rename(index=str, columns={\"0\": \"label\"})"
   ]
  },
  {
   "cell_type": "code",
   "execution_count": 25,
   "metadata": {},
   "outputs": [
    {
     "data": {
      "text/html": [
       "<div>\n",
       "<style scoped>\n",
       "    .dataframe tbody tr th:only-of-type {\n",
       "        vertical-align: middle;\n",
       "    }\n",
       "\n",
       "    .dataframe tbody tr th {\n",
       "        vertical-align: top;\n",
       "    }\n",
       "\n",
       "    .dataframe thead th {\n",
       "        text-align: right;\n",
       "    }\n",
       "</style>\n",
       "<table border=\"1\" class=\"dataframe\">\n",
       "  <thead>\n",
       "    <tr style=\"text-align: right;\">\n",
       "      <th></th>\n",
       "      <th>0</th>\n",
       "      <th>1</th>\n",
       "      <th>2</th>\n",
       "      <th>3</th>\n",
       "      <th>4</th>\n",
       "      <th>5</th>\n",
       "      <th>6</th>\n",
       "      <th>7</th>\n",
       "      <th>8</th>\n",
       "      <th>9</th>\n",
       "      <th>...</th>\n",
       "      <th>207</th>\n",
       "      <th>208</th>\n",
       "      <th>209</th>\n",
       "      <th>210</th>\n",
       "      <th>211</th>\n",
       "      <th>212</th>\n",
       "      <th>213</th>\n",
       "      <th>214</th>\n",
       "      <th>215</th>\n",
       "      <th>0</th>\n",
       "    </tr>\n",
       "  </thead>\n",
       "  <tbody>\n",
       "    <tr>\n",
       "      <th>299</th>\n",
       "      <td>-56.432880</td>\n",
       "      <td>-56.432880</td>\n",
       "      <td>-56.432880</td>\n",
       "      <td>-54.261124</td>\n",
       "      <td>-53.523640</td>\n",
       "      <td>-54.656101</td>\n",
       "      <td>-56.432880</td>\n",
       "      <td>-54.727272</td>\n",
       "      <td>-53.797302</td>\n",
       "      <td>-55.543869</td>\n",
       "      <td>...</td>\n",
       "      <td>-52.585335</td>\n",
       "      <td>-53.230957</td>\n",
       "      <td>-53.161907</td>\n",
       "      <td>-53.674191</td>\n",
       "      <td>-51.674911</td>\n",
       "      <td>-52.415932</td>\n",
       "      <td>-53.504013</td>\n",
       "      <td>-52.077087</td>\n",
       "      <td>-50.671516</td>\n",
       "      <td>surprised</td>\n",
       "    </tr>\n",
       "    <tr>\n",
       "      <th>886</th>\n",
       "      <td>-55.666416</td>\n",
       "      <td>-53.749599</td>\n",
       "      <td>-53.816616</td>\n",
       "      <td>-55.855381</td>\n",
       "      <td>-55.111858</td>\n",
       "      <td>-54.721279</td>\n",
       "      <td>-58.072712</td>\n",
       "      <td>-62.385109</td>\n",
       "      <td>-58.923027</td>\n",
       "      <td>-54.865944</td>\n",
       "      <td>...</td>\n",
       "      <td>-43.471531</td>\n",
       "      <td>-42.467476</td>\n",
       "      <td>-42.585106</td>\n",
       "      <td>-43.800571</td>\n",
       "      <td>-46.685684</td>\n",
       "      <td>-46.170086</td>\n",
       "      <td>-44.986694</td>\n",
       "      <td>-44.406681</td>\n",
       "      <td>-43.492863</td>\n",
       "      <td>disgust</td>\n",
       "    </tr>\n",
       "    <tr>\n",
       "      <th>414</th>\n",
       "      <td>-62.131100</td>\n",
       "      <td>-62.131100</td>\n",
       "      <td>-62.131100</td>\n",
       "      <td>-62.131100</td>\n",
       "      <td>-62.131100</td>\n",
       "      <td>-62.131100</td>\n",
       "      <td>-62.131100</td>\n",
       "      <td>-62.131100</td>\n",
       "      <td>-62.131100</td>\n",
       "      <td>-62.131100</td>\n",
       "      <td>...</td>\n",
       "      <td>-48.329693</td>\n",
       "      <td>-48.414902</td>\n",
       "      <td>-52.199959</td>\n",
       "      <td>-52.076439</td>\n",
       "      <td>-51.499275</td>\n",
       "      <td>-51.270329</td>\n",
       "      <td>-49.035549</td>\n",
       "      <td>-49.057579</td>\n",
       "      <td>-49.190536</td>\n",
       "      <td>surprised</td>\n",
       "    </tr>\n",
       "    <tr>\n",
       "      <th>979</th>\n",
       "      <td>-42.612175</td>\n",
       "      <td>-44.166237</td>\n",
       "      <td>-46.185036</td>\n",
       "      <td>-44.702591</td>\n",
       "      <td>-42.975323</td>\n",
       "      <td>-44.313457</td>\n",
       "      <td>-44.428078</td>\n",
       "      <td>-44.274414</td>\n",
       "      <td>-43.780632</td>\n",
       "      <td>-43.182182</td>\n",
       "      <td>...</td>\n",
       "      <td>-39.133873</td>\n",
       "      <td>-39.412003</td>\n",
       "      <td>-37.712002</td>\n",
       "      <td>-39.044552</td>\n",
       "      <td>-38.289963</td>\n",
       "      <td>-38.845627</td>\n",
       "      <td>-40.895973</td>\n",
       "      <td>-42.518826</td>\n",
       "      <td>-43.199871</td>\n",
       "      <td>Happy</td>\n",
       "    </tr>\n",
       "    <tr>\n",
       "      <th>1374</th>\n",
       "      <td>-52.935829</td>\n",
       "      <td>-53.834663</td>\n",
       "      <td>-54.324043</td>\n",
       "      <td>-53.665398</td>\n",
       "      <td>-54.501369</td>\n",
       "      <td>-55.804810</td>\n",
       "      <td>-55.343307</td>\n",
       "      <td>-56.418903</td>\n",
       "      <td>-57.266418</td>\n",
       "      <td>-56.669785</td>\n",
       "      <td>...</td>\n",
       "      <td>-56.989372</td>\n",
       "      <td>-56.058750</td>\n",
       "      <td>-55.534195</td>\n",
       "      <td>-55.383038</td>\n",
       "      <td>-57.237473</td>\n",
       "      <td>-58.036812</td>\n",
       "      <td>-58.112339</td>\n",
       "      <td>-58.031681</td>\n",
       "      <td>-56.773827</td>\n",
       "      <td>surprised</td>\n",
       "    </tr>\n",
       "    <tr>\n",
       "      <th>547</th>\n",
       "      <td>-52.358807</td>\n",
       "      <td>-51.610115</td>\n",
       "      <td>-50.046631</td>\n",
       "      <td>-49.424397</td>\n",
       "      <td>-51.406414</td>\n",
       "      <td>-51.462032</td>\n",
       "      <td>-50.192711</td>\n",
       "      <td>-51.117050</td>\n",
       "      <td>-52.238796</td>\n",
       "      <td>-51.404472</td>\n",
       "      <td>...</td>\n",
       "      <td>-48.206566</td>\n",
       "      <td>-49.825951</td>\n",
       "      <td>-48.717484</td>\n",
       "      <td>-47.780880</td>\n",
       "      <td>-49.512329</td>\n",
       "      <td>-49.161598</td>\n",
       "      <td>-46.813667</td>\n",
       "      <td>-46.451687</td>\n",
       "      <td>-45.739906</td>\n",
       "      <td>calm</td>\n",
       "    </tr>\n",
       "    <tr>\n",
       "      <th>353</th>\n",
       "      <td>-71.484970</td>\n",
       "      <td>-71.484970</td>\n",
       "      <td>-71.484970</td>\n",
       "      <td>-71.484970</td>\n",
       "      <td>-71.484970</td>\n",
       "      <td>-71.484970</td>\n",
       "      <td>-71.484970</td>\n",
       "      <td>-71.484970</td>\n",
       "      <td>-71.484970</td>\n",
       "      <td>-71.484970</td>\n",
       "      <td>...</td>\n",
       "      <td>-62.322880</td>\n",
       "      <td>-62.343601</td>\n",
       "      <td>-61.720432</td>\n",
       "      <td>-60.302925</td>\n",
       "      <td>-63.511345</td>\n",
       "      <td>-65.801910</td>\n",
       "      <td>-65.102058</td>\n",
       "      <td>-66.973267</td>\n",
       "      <td>-69.044624</td>\n",
       "      <td>surprised</td>\n",
       "    </tr>\n",
       "    <tr>\n",
       "      <th>1120</th>\n",
       "      <td>-45.133114</td>\n",
       "      <td>-45.986206</td>\n",
       "      <td>-47.102131</td>\n",
       "      <td>-47.071899</td>\n",
       "      <td>-50.197029</td>\n",
       "      <td>-50.810001</td>\n",
       "      <td>-50.140190</td>\n",
       "      <td>-50.094814</td>\n",
       "      <td>-52.950752</td>\n",
       "      <td>-53.276470</td>\n",
       "      <td>...</td>\n",
       "      <td>-51.100151</td>\n",
       "      <td>-50.897762</td>\n",
       "      <td>-50.474586</td>\n",
       "      <td>-49.177994</td>\n",
       "      <td>-48.331753</td>\n",
       "      <td>-49.057755</td>\n",
       "      <td>-47.925781</td>\n",
       "      <td>-48.229755</td>\n",
       "      <td>-51.377739</td>\n",
       "      <td>fearful</td>\n",
       "    </tr>\n",
       "    <tr>\n",
       "      <th>727</th>\n",
       "      <td>-57.304344</td>\n",
       "      <td>-57.513496</td>\n",
       "      <td>-57.424149</td>\n",
       "      <td>-60.285889</td>\n",
       "      <td>-63.514336</td>\n",
       "      <td>-59.822914</td>\n",
       "      <td>-59.655575</td>\n",
       "      <td>-60.264973</td>\n",
       "      <td>-60.922134</td>\n",
       "      <td>-63.632328</td>\n",
       "      <td>...</td>\n",
       "      <td>-66.580154</td>\n",
       "      <td>-65.908516</td>\n",
       "      <td>-65.687950</td>\n",
       "      <td>-59.147331</td>\n",
       "      <td>-57.582893</td>\n",
       "      <td>-60.386009</td>\n",
       "      <td>-62.520439</td>\n",
       "      <td>-63.540302</td>\n",
       "      <td>-65.164726</td>\n",
       "      <td>calm</td>\n",
       "    </tr>\n",
       "    <tr>\n",
       "      <th>333</th>\n",
       "      <td>-40.324867</td>\n",
       "      <td>-40.036160</td>\n",
       "      <td>-39.746658</td>\n",
       "      <td>-39.590351</td>\n",
       "      <td>-39.848934</td>\n",
       "      <td>-40.558823</td>\n",
       "      <td>-40.764133</td>\n",
       "      <td>-40.560123</td>\n",
       "      <td>-40.211590</td>\n",
       "      <td>-39.646713</td>\n",
       "      <td>...</td>\n",
       "      <td>-29.944859</td>\n",
       "      <td>-31.691959</td>\n",
       "      <td>-34.224365</td>\n",
       "      <td>-35.397488</td>\n",
       "      <td>-36.696175</td>\n",
       "      <td>-37.699234</td>\n",
       "      <td>-37.734016</td>\n",
       "      <td>-23.380659</td>\n",
       "      <td>-13.944887</td>\n",
       "      <td>angry</td>\n",
       "    </tr>\n",
       "  </tbody>\n",
       "</table>\n",
       "<p>10 rows × 217 columns</p>\n",
       "</div>"
      ],
      "text/plain": [
       "            0          1          2          3          4          5    \\\n",
       "299  -56.432880 -56.432880 -56.432880 -54.261124 -53.523640 -54.656101   \n",
       "886  -55.666416 -53.749599 -53.816616 -55.855381 -55.111858 -54.721279   \n",
       "414  -62.131100 -62.131100 -62.131100 -62.131100 -62.131100 -62.131100   \n",
       "979  -42.612175 -44.166237 -46.185036 -44.702591 -42.975323 -44.313457   \n",
       "1374 -52.935829 -53.834663 -54.324043 -53.665398 -54.501369 -55.804810   \n",
       "547  -52.358807 -51.610115 -50.046631 -49.424397 -51.406414 -51.462032   \n",
       "353  -71.484970 -71.484970 -71.484970 -71.484970 -71.484970 -71.484970   \n",
       "1120 -45.133114 -45.986206 -47.102131 -47.071899 -50.197029 -50.810001   \n",
       "727  -57.304344 -57.513496 -57.424149 -60.285889 -63.514336 -59.822914   \n",
       "333  -40.324867 -40.036160 -39.746658 -39.590351 -39.848934 -40.558823   \n",
       "\n",
       "            6          7          8          9    ...        207        208  \\\n",
       "299  -56.432880 -54.727272 -53.797302 -55.543869  ... -52.585335 -53.230957   \n",
       "886  -58.072712 -62.385109 -58.923027 -54.865944  ... -43.471531 -42.467476   \n",
       "414  -62.131100 -62.131100 -62.131100 -62.131100  ... -48.329693 -48.414902   \n",
       "979  -44.428078 -44.274414 -43.780632 -43.182182  ... -39.133873 -39.412003   \n",
       "1374 -55.343307 -56.418903 -57.266418 -56.669785  ... -56.989372 -56.058750   \n",
       "547  -50.192711 -51.117050 -52.238796 -51.404472  ... -48.206566 -49.825951   \n",
       "353  -71.484970 -71.484970 -71.484970 -71.484970  ... -62.322880 -62.343601   \n",
       "1120 -50.140190 -50.094814 -52.950752 -53.276470  ... -51.100151 -50.897762   \n",
       "727  -59.655575 -60.264973 -60.922134 -63.632328  ... -66.580154 -65.908516   \n",
       "333  -40.764133 -40.560123 -40.211590 -39.646713  ... -29.944859 -31.691959   \n",
       "\n",
       "            209        210        211        212        213        214  \\\n",
       "299  -53.161907 -53.674191 -51.674911 -52.415932 -53.504013 -52.077087   \n",
       "886  -42.585106 -43.800571 -46.685684 -46.170086 -44.986694 -44.406681   \n",
       "414  -52.199959 -52.076439 -51.499275 -51.270329 -49.035549 -49.057579   \n",
       "979  -37.712002 -39.044552 -38.289963 -38.845627 -40.895973 -42.518826   \n",
       "1374 -55.534195 -55.383038 -57.237473 -58.036812 -58.112339 -58.031681   \n",
       "547  -48.717484 -47.780880 -49.512329 -49.161598 -46.813667 -46.451687   \n",
       "353  -61.720432 -60.302925 -63.511345 -65.801910 -65.102058 -66.973267   \n",
       "1120 -50.474586 -49.177994 -48.331753 -49.057755 -47.925781 -48.229755   \n",
       "727  -65.687950 -59.147331 -57.582893 -60.386009 -62.520439 -63.540302   \n",
       "333  -34.224365 -35.397488 -36.696175 -37.699234 -37.734016 -23.380659   \n",
       "\n",
       "            215        0    \n",
       "299  -50.671516  surprised  \n",
       "886  -43.492863    disgust  \n",
       "414  -49.190536  surprised  \n",
       "979  -43.199871      Happy  \n",
       "1374 -56.773827  surprised  \n",
       "547  -45.739906       calm  \n",
       "353  -69.044624  surprised  \n",
       "1120 -51.377739    fearful  \n",
       "727  -65.164726       calm  \n",
       "333  -13.944887      angry  \n",
       "\n",
       "[10 rows x 217 columns]"
      ]
     },
     "execution_count": 25,
     "metadata": {},
     "output_type": "execute_result"
    }
   ],
   "source": [
    "from sklearn.utils import shuffle\n",
    "rnewdf = shuffle(newdf)\n",
    "rnewdf[:10]"
   ]
  },
  {
   "cell_type": "code",
   "execution_count": 26,
   "metadata": {},
   "outputs": [],
   "source": [
    "rnewdf=rnewdf.fillna(0)"
   ]
  },
  {
   "cell_type": "markdown",
   "metadata": {},
   "source": [
    "## Dividing the data into test and train"
   ]
  },
  {
   "cell_type": "code",
   "execution_count": 27,
   "metadata": {},
   "outputs": [],
   "source": [
    "newdf1 = np.random.rand(len(rnewdf)) < 0.8\n",
    "train = rnewdf[newdf1]\n",
    "test = rnewdf[~newdf1]"
   ]
  },
  {
   "cell_type": "code",
   "execution_count": 28,
   "metadata": {},
   "outputs": [
    {
     "data": {
      "text/html": [
       "<div>\n",
       "<style scoped>\n",
       "    .dataframe tbody tr th:only-of-type {\n",
       "        vertical-align: middle;\n",
       "    }\n",
       "\n",
       "    .dataframe tbody tr th {\n",
       "        vertical-align: top;\n",
       "    }\n",
       "\n",
       "    .dataframe thead th {\n",
       "        text-align: right;\n",
       "    }\n",
       "</style>\n",
       "<table border=\"1\" class=\"dataframe\">\n",
       "  <thead>\n",
       "    <tr style=\"text-align: right;\">\n",
       "      <th></th>\n",
       "      <th>0</th>\n",
       "      <th>1</th>\n",
       "      <th>2</th>\n",
       "      <th>3</th>\n",
       "      <th>4</th>\n",
       "      <th>5</th>\n",
       "      <th>6</th>\n",
       "      <th>7</th>\n",
       "      <th>8</th>\n",
       "      <th>9</th>\n",
       "      <th>...</th>\n",
       "      <th>207</th>\n",
       "      <th>208</th>\n",
       "      <th>209</th>\n",
       "      <th>210</th>\n",
       "      <th>211</th>\n",
       "      <th>212</th>\n",
       "      <th>213</th>\n",
       "      <th>214</th>\n",
       "      <th>215</th>\n",
       "      <th>0</th>\n",
       "    </tr>\n",
       "  </thead>\n",
       "  <tbody>\n",
       "    <tr>\n",
       "      <th>232</th>\n",
       "      <td>-53.852768</td>\n",
       "      <td>-53.852768</td>\n",
       "      <td>-53.852768</td>\n",
       "      <td>-53.852768</td>\n",
       "      <td>-53.852768</td>\n",
       "      <td>-53.852768</td>\n",
       "      <td>-53.852768</td>\n",
       "      <td>-53.852768</td>\n",
       "      <td>-53.852768</td>\n",
       "      <td>-53.852768</td>\n",
       "      <td>...</td>\n",
       "      <td>-42.638924</td>\n",
       "      <td>-42.770950</td>\n",
       "      <td>-44.072636</td>\n",
       "      <td>-44.311993</td>\n",
       "      <td>-44.131573</td>\n",
       "      <td>-44.608833</td>\n",
       "      <td>-46.935894</td>\n",
       "      <td>-48.826756</td>\n",
       "      <td>-50.628975</td>\n",
       "      <td>disgust</td>\n",
       "    </tr>\n",
       "    <tr>\n",
       "      <th>709</th>\n",
       "      <td>-51.506035</td>\n",
       "      <td>-53.286251</td>\n",
       "      <td>-54.424744</td>\n",
       "      <td>-52.822914</td>\n",
       "      <td>-52.119278</td>\n",
       "      <td>-54.102139</td>\n",
       "      <td>-55.346474</td>\n",
       "      <td>-54.710403</td>\n",
       "      <td>-52.439175</td>\n",
       "      <td>-52.182678</td>\n",
       "      <td>...</td>\n",
       "      <td>-29.572395</td>\n",
       "      <td>-30.520159</td>\n",
       "      <td>-30.141666</td>\n",
       "      <td>-31.015867</td>\n",
       "      <td>-33.825191</td>\n",
       "      <td>-33.527367</td>\n",
       "      <td>-32.418682</td>\n",
       "      <td>-32.458736</td>\n",
       "      <td>-31.829494</td>\n",
       "      <td>disgust</td>\n",
       "    </tr>\n",
       "    <tr>\n",
       "      <th>1127</th>\n",
       "      <td>-61.594719</td>\n",
       "      <td>-57.919277</td>\n",
       "      <td>-57.033695</td>\n",
       "      <td>-58.921162</td>\n",
       "      <td>-62.236286</td>\n",
       "      <td>-64.016373</td>\n",
       "      <td>-63.577663</td>\n",
       "      <td>-62.437687</td>\n",
       "      <td>-63.959393</td>\n",
       "      <td>-64.348763</td>\n",
       "      <td>...</td>\n",
       "      <td>-27.321072</td>\n",
       "      <td>-27.493065</td>\n",
       "      <td>-28.464296</td>\n",
       "      <td>-26.433481</td>\n",
       "      <td>-27.578749</td>\n",
       "      <td>-27.817707</td>\n",
       "      <td>-25.551094</td>\n",
       "      <td>-25.332052</td>\n",
       "      <td>-23.859333</td>\n",
       "      <td>disgust</td>\n",
       "    </tr>\n",
       "    <tr>\n",
       "      <th>1400</th>\n",
       "      <td>-52.388832</td>\n",
       "      <td>-52.388832</td>\n",
       "      <td>-52.388832</td>\n",
       "      <td>-52.388832</td>\n",
       "      <td>-54.024086</td>\n",
       "      <td>-54.198566</td>\n",
       "      <td>-53.286076</td>\n",
       "      <td>-52.388832</td>\n",
       "      <td>-52.388832</td>\n",
       "      <td>-52.399776</td>\n",
       "      <td>...</td>\n",
       "      <td>-44.524052</td>\n",
       "      <td>-46.362766</td>\n",
       "      <td>-46.383038</td>\n",
       "      <td>-47.492374</td>\n",
       "      <td>-51.348980</td>\n",
       "      <td>-51.252678</td>\n",
       "      <td>-50.509342</td>\n",
       "      <td>-49.606155</td>\n",
       "      <td>-47.599140</td>\n",
       "      <td>Happy</td>\n",
       "    </tr>\n",
       "    <tr>\n",
       "      <th>991</th>\n",
       "      <td>-57.586689</td>\n",
       "      <td>-56.086758</td>\n",
       "      <td>-53.829704</td>\n",
       "      <td>-53.242210</td>\n",
       "      <td>-51.507927</td>\n",
       "      <td>-49.827984</td>\n",
       "      <td>-49.511772</td>\n",
       "      <td>-50.775372</td>\n",
       "      <td>-54.970257</td>\n",
       "      <td>-57.406372</td>\n",
       "      <td>...</td>\n",
       "      <td>-46.774658</td>\n",
       "      <td>-49.279167</td>\n",
       "      <td>-47.368259</td>\n",
       "      <td>-48.282810</td>\n",
       "      <td>-48.861309</td>\n",
       "      <td>-49.222832</td>\n",
       "      <td>-53.694599</td>\n",
       "      <td>-53.383976</td>\n",
       "      <td>-52.556938</td>\n",
       "      <td>angry</td>\n",
       "    </tr>\n",
       "    <tr>\n",
       "      <th>736</th>\n",
       "      <td>-62.430161</td>\n",
       "      <td>-61.890205</td>\n",
       "      <td>-59.801773</td>\n",
       "      <td>-60.353928</td>\n",
       "      <td>-60.058758</td>\n",
       "      <td>-60.072021</td>\n",
       "      <td>-60.970772</td>\n",
       "      <td>-62.690819</td>\n",
       "      <td>-62.405861</td>\n",
       "      <td>-62.465813</td>\n",
       "      <td>...</td>\n",
       "      <td>-54.385944</td>\n",
       "      <td>-55.304020</td>\n",
       "      <td>-58.207424</td>\n",
       "      <td>-58.249245</td>\n",
       "      <td>-58.344139</td>\n",
       "      <td>-57.103432</td>\n",
       "      <td>-57.147392</td>\n",
       "      <td>-59.231651</td>\n",
       "      <td>-63.969559</td>\n",
       "      <td>Happy</td>\n",
       "    </tr>\n",
       "    <tr>\n",
       "      <th>1214</th>\n",
       "      <td>-54.912579</td>\n",
       "      <td>-53.479946</td>\n",
       "      <td>-50.805733</td>\n",
       "      <td>-51.206768</td>\n",
       "      <td>-53.265053</td>\n",
       "      <td>-56.825596</td>\n",
       "      <td>-57.514378</td>\n",
       "      <td>-57.514378</td>\n",
       "      <td>-55.364082</td>\n",
       "      <td>-53.777767</td>\n",
       "      <td>...</td>\n",
       "      <td>-39.919292</td>\n",
       "      <td>-41.233273</td>\n",
       "      <td>-43.230087</td>\n",
       "      <td>-43.495487</td>\n",
       "      <td>-46.043518</td>\n",
       "      <td>-46.545723</td>\n",
       "      <td>-49.342064</td>\n",
       "      <td>-50.947548</td>\n",
       "      <td>-49.810997</td>\n",
       "      <td>Happy</td>\n",
       "    </tr>\n",
       "    <tr>\n",
       "      <th>651</th>\n",
       "      <td>-55.618999</td>\n",
       "      <td>-56.453068</td>\n",
       "      <td>-55.836716</td>\n",
       "      <td>-56.042351</td>\n",
       "      <td>-55.994953</td>\n",
       "      <td>-55.355717</td>\n",
       "      <td>-55.054970</td>\n",
       "      <td>-54.578579</td>\n",
       "      <td>-55.100685</td>\n",
       "      <td>-57.088951</td>\n",
       "      <td>...</td>\n",
       "      <td>-39.368057</td>\n",
       "      <td>-41.021912</td>\n",
       "      <td>-44.416164</td>\n",
       "      <td>-43.697746</td>\n",
       "      <td>-44.673828</td>\n",
       "      <td>-48.692680</td>\n",
       "      <td>-49.427952</td>\n",
       "      <td>-48.472980</td>\n",
       "      <td>-46.734253</td>\n",
       "      <td>disgust</td>\n",
       "    </tr>\n",
       "    <tr>\n",
       "      <th>389</th>\n",
       "      <td>-56.991703</td>\n",
       "      <td>-56.940559</td>\n",
       "      <td>-57.108036</td>\n",
       "      <td>-57.278801</td>\n",
       "      <td>-57.235207</td>\n",
       "      <td>-57.340252</td>\n",
       "      <td>-56.768295</td>\n",
       "      <td>-57.140522</td>\n",
       "      <td>-56.035915</td>\n",
       "      <td>-56.392086</td>\n",
       "      <td>...</td>\n",
       "      <td>-20.153084</td>\n",
       "      <td>-19.958595</td>\n",
       "      <td>-18.861324</td>\n",
       "      <td>-16.960625</td>\n",
       "      <td>-17.121567</td>\n",
       "      <td>-17.872438</td>\n",
       "      <td>-18.308878</td>\n",
       "      <td>-19.673628</td>\n",
       "      <td>-20.240120</td>\n",
       "      <td>angry</td>\n",
       "    </tr>\n",
       "    <tr>\n",
       "      <th>943</th>\n",
       "      <td>-35.319462</td>\n",
       "      <td>-39.132694</td>\n",
       "      <td>-39.785702</td>\n",
       "      <td>-37.674015</td>\n",
       "      <td>-37.200958</td>\n",
       "      <td>-35.843155</td>\n",
       "      <td>-36.003845</td>\n",
       "      <td>-37.002804</td>\n",
       "      <td>-38.095699</td>\n",
       "      <td>-41.360298</td>\n",
       "      <td>...</td>\n",
       "      <td>-39.295048</td>\n",
       "      <td>-37.979324</td>\n",
       "      <td>-38.666508</td>\n",
       "      <td>-39.226162</td>\n",
       "      <td>-39.982407</td>\n",
       "      <td>-39.395073</td>\n",
       "      <td>-38.948021</td>\n",
       "      <td>-40.996468</td>\n",
       "      <td>-40.479919</td>\n",
       "      <td>fearful</td>\n",
       "    </tr>\n",
       "  </tbody>\n",
       "</table>\n",
       "<p>10 rows × 217 columns</p>\n",
       "</div>"
      ],
      "text/plain": [
       "            0          1          2          3          4          5    \\\n",
       "232  -53.852768 -53.852768 -53.852768 -53.852768 -53.852768 -53.852768   \n",
       "709  -51.506035 -53.286251 -54.424744 -52.822914 -52.119278 -54.102139   \n",
       "1127 -61.594719 -57.919277 -57.033695 -58.921162 -62.236286 -64.016373   \n",
       "1400 -52.388832 -52.388832 -52.388832 -52.388832 -54.024086 -54.198566   \n",
       "991  -57.586689 -56.086758 -53.829704 -53.242210 -51.507927 -49.827984   \n",
       "736  -62.430161 -61.890205 -59.801773 -60.353928 -60.058758 -60.072021   \n",
       "1214 -54.912579 -53.479946 -50.805733 -51.206768 -53.265053 -56.825596   \n",
       "651  -55.618999 -56.453068 -55.836716 -56.042351 -55.994953 -55.355717   \n",
       "389  -56.991703 -56.940559 -57.108036 -57.278801 -57.235207 -57.340252   \n",
       "943  -35.319462 -39.132694 -39.785702 -37.674015 -37.200958 -35.843155   \n",
       "\n",
       "            6          7          8          9    ...        207        208  \\\n",
       "232  -53.852768 -53.852768 -53.852768 -53.852768  ... -42.638924 -42.770950   \n",
       "709  -55.346474 -54.710403 -52.439175 -52.182678  ... -29.572395 -30.520159   \n",
       "1127 -63.577663 -62.437687 -63.959393 -64.348763  ... -27.321072 -27.493065   \n",
       "1400 -53.286076 -52.388832 -52.388832 -52.399776  ... -44.524052 -46.362766   \n",
       "991  -49.511772 -50.775372 -54.970257 -57.406372  ... -46.774658 -49.279167   \n",
       "736  -60.970772 -62.690819 -62.405861 -62.465813  ... -54.385944 -55.304020   \n",
       "1214 -57.514378 -57.514378 -55.364082 -53.777767  ... -39.919292 -41.233273   \n",
       "651  -55.054970 -54.578579 -55.100685 -57.088951  ... -39.368057 -41.021912   \n",
       "389  -56.768295 -57.140522 -56.035915 -56.392086  ... -20.153084 -19.958595   \n",
       "943  -36.003845 -37.002804 -38.095699 -41.360298  ... -39.295048 -37.979324   \n",
       "\n",
       "            209        210        211        212        213        214  \\\n",
       "232  -44.072636 -44.311993 -44.131573 -44.608833 -46.935894 -48.826756   \n",
       "709  -30.141666 -31.015867 -33.825191 -33.527367 -32.418682 -32.458736   \n",
       "1127 -28.464296 -26.433481 -27.578749 -27.817707 -25.551094 -25.332052   \n",
       "1400 -46.383038 -47.492374 -51.348980 -51.252678 -50.509342 -49.606155   \n",
       "991  -47.368259 -48.282810 -48.861309 -49.222832 -53.694599 -53.383976   \n",
       "736  -58.207424 -58.249245 -58.344139 -57.103432 -57.147392 -59.231651   \n",
       "1214 -43.230087 -43.495487 -46.043518 -46.545723 -49.342064 -50.947548   \n",
       "651  -44.416164 -43.697746 -44.673828 -48.692680 -49.427952 -48.472980   \n",
       "389  -18.861324 -16.960625 -17.121567 -17.872438 -18.308878 -19.673628   \n",
       "943  -38.666508 -39.226162 -39.982407 -39.395073 -38.948021 -40.996468   \n",
       "\n",
       "            215      0    \n",
       "232  -50.628975  disgust  \n",
       "709  -31.829494  disgust  \n",
       "1127 -23.859333  disgust  \n",
       "1400 -47.599140    Happy  \n",
       "991  -52.556938    angry  \n",
       "736  -63.969559    Happy  \n",
       "1214 -49.810997    Happy  \n",
       "651  -46.734253  disgust  \n",
       "389  -20.240120    angry  \n",
       "943  -40.479919  fearful  \n",
       "\n",
       "[10 rows x 217 columns]"
      ]
     },
     "execution_count": 28,
     "metadata": {},
     "output_type": "execute_result"
    }
   ],
   "source": [
    "train[10:20]"
   ]
  },
  {
   "cell_type": "code",
   "execution_count": 29,
   "metadata": {},
   "outputs": [],
   "source": [
    "trainfeatures = train.iloc[:, :-1]"
   ]
  },
  {
   "cell_type": "code",
   "execution_count": 30,
   "metadata": {},
   "outputs": [
    {
     "name": "stdout",
     "output_type": "stream",
     "text": [
      "(1162, 1)\n"
     ]
    }
   ],
   "source": [
    "trainlabel = train.iloc[:, -1:]\n",
    "print(shape(trainlabel))"
   ]
  },
  {
   "cell_type": "code",
   "execution_count": 31,
   "metadata": {},
   "outputs": [],
   "source": [
    "testfeatures = test.iloc[:, :-1]"
   ]
  },
  {
   "cell_type": "code",
   "execution_count": 32,
   "metadata": {},
   "outputs": [],
   "source": [
    "testlabel = test.iloc[:, -1:]"
   ]
  },
  {
   "cell_type": "code",
   "execution_count": 33,
   "metadata": {},
   "outputs": [
    {
     "name": "stderr",
     "output_type": "stream",
     "text": [
      "C:\\Users\\20194998\\Anaconda3\\lib\\site-packages\\sklearn\\utils\\validation.py:73: DataConversionWarning: A column-vector y was passed when a 1d array was expected. Please change the shape of y to (n_samples, ), for example using ravel().\n",
      "  return f(**kwargs)\n"
     ]
    }
   ],
   "source": [
    "from keras.utils import np_utils\n",
    "from sklearn.preprocessing import LabelEncoder\n",
    "\n",
    "X_train = np.array(trainfeatures)\n",
    "y_train = np.array(trainlabel)\n",
    "X_test = np.array(testfeatures)\n",
    "y_test = np.array(testlabel)\n",
    "\n",
    "lb = LabelEncoder()\n",
    "\n",
    "nb_classes = 8 \n",
    "encoder = LabelEncoder()\n",
    "\n",
    "y_train = np_utils.to_categorical(lb.fit_transform(y_train), nb_classes)\n",
    "y_test = np_utils.to_categorical(lb.fit_transform(y_test), nb_classes)\n",
    "\n",
    "numpy.save('encoder.npy', lb.classes_)"
   ]
  },
  {
   "cell_type": "code",
   "execution_count": 34,
   "metadata": {},
   "outputs": [
    {
     "data": {
      "text/plain": [
       "array([[0., 0., 0., ..., 0., 0., 1.],\n",
       "       [0., 0., 0., ..., 0., 0., 0.],\n",
       "       [0., 0., 0., ..., 0., 0., 1.],\n",
       "       ...,\n",
       "       [0., 0., 0., ..., 1., 0., 0.],\n",
       "       [0., 1., 0., ..., 0., 0., 0.],\n",
       "       [0., 0., 0., ..., 0., 0., 0.]], dtype=float32)"
      ]
     },
     "execution_count": 34,
     "metadata": {},
     "output_type": "execute_result"
    }
   ],
   "source": [
    "y_train"
   ]
  },
  {
   "cell_type": "code",
   "execution_count": 35,
   "metadata": {},
   "outputs": [
    {
     "data": {
      "text/plain": [
       "array([[0., 0., 0., ..., 0., 0., 0.],\n",
       "       [0., 0., 0., ..., 0., 0., 0.],\n",
       "       [0., 0., 0., ..., 0., 0., 0.],\n",
       "       ...,\n",
       "       [0., 0., 1., ..., 0., 0., 0.],\n",
       "       [1., 0., 0., ..., 0., 0., 0.],\n",
       "       [1., 0., 0., ..., 0., 0., 0.]], dtype=float32)"
      ]
     },
     "execution_count": 35,
     "metadata": {},
     "output_type": "execute_result"
    }
   ],
   "source": [
    "y_test"
   ]
  },
  {
   "cell_type": "code",
   "execution_count": 36,
   "metadata": {},
   "outputs": [
    {
     "data": {
      "text/plain": [
       "(1162, 216)"
      ]
     },
     "execution_count": 36,
     "metadata": {},
     "output_type": "execute_result"
    }
   ],
   "source": [
    "X_train.shape"
   ]
  },
  {
   "cell_type": "markdown",
   "metadata": {},
   "source": [
    "## Changing dimension for CNN model"
   ]
  },
  {
   "cell_type": "code",
   "execution_count": 37,
   "metadata": {},
   "outputs": [],
   "source": [
    "x_traincnn =np.expand_dims(X_train, axis=2)\n",
    "x_testcnn= np.expand_dims(X_test, axis=2)"
   ]
  },
  {
   "cell_type": "code",
   "execution_count": 81,
   "metadata": {},
   "outputs": [],
   "source": [
    "model = Sequential()\n",
    "#filters, kernel_size, strides=1, padding='valid', data_format='channels_last',\n",
    "\n",
    "model.add(Conv1D(256, 5,padding='same', input_shape=(216,1)))\n",
    "model.add(Activation('relu'))\n",
    "model.add(Conv1D(128, 5,padding='same'))\n",
    "model.add(Activation('relu'))\n",
    "model.add(Dropout(0.1))\n",
    "model.add(MaxPooling1D(pool_size=(8)))\n",
    "model.add(Conv1D(128, 5,padding='same',))\n",
    "model.add(Activation('relu'))\n",
    "model.add(Conv1D(128, 5,padding='same',))\n",
    "model.add(Activation('relu'))\n",
    "model.add(Flatten())\n",
    "model.add(Dense(8))\n",
    "model.add(Activation('softmax')) #softmax as we are doing multiclass classification\n",
    "opt = keras.optimizers.Adam(learning_rate=0.0001)"
   ]
  },
  {
   "cell_type": "code",
   "execution_count": 82,
   "metadata": {},
   "outputs": [
    {
     "name": "stdout",
     "output_type": "stream",
     "text": [
      "Model: \"sequential_1\"\n",
      "_________________________________________________________________\n",
      "Layer (type)                 Output Shape              Param #   \n",
      "=================================================================\n",
      "conv1d_4 (Conv1D)            (None, 216, 256)          1536      \n",
      "_________________________________________________________________\n",
      "activation_5 (Activation)    (None, 216, 256)          0         \n",
      "_________________________________________________________________\n",
      "conv1d_5 (Conv1D)            (None, 216, 128)          163968    \n",
      "_________________________________________________________________\n",
      "activation_6 (Activation)    (None, 216, 128)          0         \n",
      "_________________________________________________________________\n",
      "dropout_1 (Dropout)          (None, 216, 128)          0         \n",
      "_________________________________________________________________\n",
      "max_pooling1d_1 (MaxPooling1 (None, 27, 128)           0         \n",
      "_________________________________________________________________\n",
      "conv1d_6 (Conv1D)            (None, 27, 128)           82048     \n",
      "_________________________________________________________________\n",
      "activation_7 (Activation)    (None, 27, 128)           0         \n",
      "_________________________________________________________________\n",
      "conv1d_7 (Conv1D)            (None, 27, 128)           82048     \n",
      "_________________________________________________________________\n",
      "activation_8 (Activation)    (None, 27, 128)           0         \n",
      "_________________________________________________________________\n",
      "flatten_1 (Flatten)          (None, 3456)              0         \n",
      "_________________________________________________________________\n",
      "dense_1 (Dense)              (None, 8)                 27656     \n",
      "_________________________________________________________________\n",
      "activation_9 (Activation)    (None, 8)                 0         \n",
      "=================================================================\n",
      "Total params: 357,256\n",
      "Trainable params: 357,256\n",
      "Non-trainable params: 0\n",
      "_________________________________________________________________\n"
     ]
    }
   ],
   "source": [
    "model.summary()"
   ]
  },
  {
   "cell_type": "code",
   "execution_count": 83,
   "metadata": {},
   "outputs": [],
   "source": [
    "model.compile(loss=\n",
    "             'categorical_crossentropy', \n",
    "              optimizer=opt, \n",
    "              metrics=['accuracy'])\n",
    "#tf.keras.losses.SparseCategoricalCrossentropy()\n",
    "#'categorical_crossentropy'"
   ]
  },
  {
   "cell_type": "code",
   "execution_count": 90,
   "metadata": {},
   "outputs": [],
   "source": [
    "#es = EarlyStopping(monitor='loss', mode='min')\n",
    "#cnnhistory=model.fit(x_traincnn, y_train, batch_size=16, epochs=200, validation_data=(x_testcnn, y_test), callbacks=[es])"
   ]
  },
  {
   "cell_type": "code",
   "execution_count": 92,
   "metadata": {},
   "outputs": [
    {
     "name": "stdout",
     "output_type": "stream",
     "text": [
      "Epoch 1/200\n",
      "73/73 [==============================] - 4s 55ms/step - loss: 1.3908 - accuracy: 0.4785 - val_loss: 1.6066 - val_accuracy: 0.4050\n",
      "Epoch 2/200\n",
      "73/73 [==============================] - 4s 55ms/step - loss: 1.3508 - accuracy: 0.5000 - val_loss: 1.5873 - val_accuracy: 0.4014\n",
      "Epoch 3/200\n",
      " 3/73 [>.............................] - ETA: 2s - loss: 1.1542 - accuracy: 0.6250"
     ]
    },
    {
     "ename": "KeyboardInterrupt",
     "evalue": "",
     "output_type": "error",
     "traceback": [
      "\u001b[1;31m---------------------------------------------------------------------------\u001b[0m",
      "\u001b[1;31mKeyboardInterrupt\u001b[0m                         Traceback (most recent call last)",
      "\u001b[1;32m<ipython-input-92-c478f7332333>\u001b[0m in \u001b[0;36m<module>\u001b[1;34m\u001b[0m\n\u001b[1;32m----> 1\u001b[1;33m \u001b[0mcnnhistory\u001b[0m\u001b[1;33m=\u001b[0m\u001b[0mmodel\u001b[0m\u001b[1;33m.\u001b[0m\u001b[0mfit\u001b[0m\u001b[1;33m(\u001b[0m\u001b[0mx_traincnn\u001b[0m\u001b[1;33m,\u001b[0m \u001b[0my_train\u001b[0m\u001b[1;33m,\u001b[0m \u001b[0mbatch_size\u001b[0m\u001b[1;33m=\u001b[0m\u001b[1;36m16\u001b[0m\u001b[1;33m,\u001b[0m \u001b[0mepochs\u001b[0m\u001b[1;33m=\u001b[0m\u001b[1;36m200\u001b[0m\u001b[1;33m,\u001b[0m \u001b[0mvalidation_data\u001b[0m\u001b[1;33m=\u001b[0m\u001b[1;33m(\u001b[0m\u001b[0mx_testcnn\u001b[0m\u001b[1;33m,\u001b[0m \u001b[0my_test\u001b[0m\u001b[1;33m)\u001b[0m\u001b[1;33m)\u001b[0m\u001b[1;33m\u001b[0m\u001b[1;33m\u001b[0m\u001b[0m\n\u001b[0m",
      "\u001b[1;32m~\\AppData\\Roaming\\Python\\Python38\\site-packages\\tensorflow\\python\\keras\\engine\\training.py\u001b[0m in \u001b[0;36m_method_wrapper\u001b[1;34m(self, *args, **kwargs)\u001b[0m\n\u001b[0;32m     64\u001b[0m   \u001b[1;32mdef\u001b[0m \u001b[0m_method_wrapper\u001b[0m\u001b[1;33m(\u001b[0m\u001b[0mself\u001b[0m\u001b[1;33m,\u001b[0m \u001b[1;33m*\u001b[0m\u001b[0margs\u001b[0m\u001b[1;33m,\u001b[0m \u001b[1;33m**\u001b[0m\u001b[0mkwargs\u001b[0m\u001b[1;33m)\u001b[0m\u001b[1;33m:\u001b[0m\u001b[1;33m\u001b[0m\u001b[1;33m\u001b[0m\u001b[0m\n\u001b[0;32m     65\u001b[0m     \u001b[1;32mif\u001b[0m \u001b[1;32mnot\u001b[0m \u001b[0mself\u001b[0m\u001b[1;33m.\u001b[0m\u001b[0m_in_multi_worker_mode\u001b[0m\u001b[1;33m(\u001b[0m\u001b[1;33m)\u001b[0m\u001b[1;33m:\u001b[0m  \u001b[1;31m# pylint: disable=protected-access\u001b[0m\u001b[1;33m\u001b[0m\u001b[1;33m\u001b[0m\u001b[0m\n\u001b[1;32m---> 66\u001b[1;33m       \u001b[1;32mreturn\u001b[0m \u001b[0mmethod\u001b[0m\u001b[1;33m(\u001b[0m\u001b[0mself\u001b[0m\u001b[1;33m,\u001b[0m \u001b[1;33m*\u001b[0m\u001b[0margs\u001b[0m\u001b[1;33m,\u001b[0m \u001b[1;33m**\u001b[0m\u001b[0mkwargs\u001b[0m\u001b[1;33m)\u001b[0m\u001b[1;33m\u001b[0m\u001b[1;33m\u001b[0m\u001b[0m\n\u001b[0m\u001b[0;32m     67\u001b[0m \u001b[1;33m\u001b[0m\u001b[0m\n\u001b[0;32m     68\u001b[0m     \u001b[1;31m# Running inside `run_distribute_coordinator` already.\u001b[0m\u001b[1;33m\u001b[0m\u001b[1;33m\u001b[0m\u001b[1;33m\u001b[0m\u001b[0m\n",
      "\u001b[1;32m~\\AppData\\Roaming\\Python\\Python38\\site-packages\\tensorflow\\python\\keras\\engine\\training.py\u001b[0m in \u001b[0;36mfit\u001b[1;34m(self, x, y, batch_size, epochs, verbose, callbacks, validation_split, validation_data, shuffle, class_weight, sample_weight, initial_epoch, steps_per_epoch, validation_steps, validation_batch_size, validation_freq, max_queue_size, workers, use_multiprocessing)\u001b[0m\n\u001b[0;32m    846\u001b[0m                 batch_size=batch_size):\n\u001b[0;32m    847\u001b[0m               \u001b[0mcallbacks\u001b[0m\u001b[1;33m.\u001b[0m\u001b[0mon_train_batch_begin\u001b[0m\u001b[1;33m(\u001b[0m\u001b[0mstep\u001b[0m\u001b[1;33m)\u001b[0m\u001b[1;33m\u001b[0m\u001b[1;33m\u001b[0m\u001b[0m\n\u001b[1;32m--> 848\u001b[1;33m               \u001b[0mtmp_logs\u001b[0m \u001b[1;33m=\u001b[0m \u001b[0mtrain_function\u001b[0m\u001b[1;33m(\u001b[0m\u001b[0miterator\u001b[0m\u001b[1;33m)\u001b[0m\u001b[1;33m\u001b[0m\u001b[1;33m\u001b[0m\u001b[0m\n\u001b[0m\u001b[0;32m    849\u001b[0m               \u001b[1;31m# Catch OutOfRangeError for Datasets of unknown size.\u001b[0m\u001b[1;33m\u001b[0m\u001b[1;33m\u001b[0m\u001b[1;33m\u001b[0m\u001b[0m\n\u001b[0;32m    850\u001b[0m               \u001b[1;31m# This blocks until the batch has finished executing.\u001b[0m\u001b[1;33m\u001b[0m\u001b[1;33m\u001b[0m\u001b[1;33m\u001b[0m\u001b[0m\n",
      "\u001b[1;32m~\\AppData\\Roaming\\Python\\Python38\\site-packages\\tensorflow\\python\\eager\\def_function.py\u001b[0m in \u001b[0;36m__call__\u001b[1;34m(self, *args, **kwds)\u001b[0m\n\u001b[0;32m    578\u001b[0m         \u001b[0mxla_context\u001b[0m\u001b[1;33m.\u001b[0m\u001b[0mExit\u001b[0m\u001b[1;33m(\u001b[0m\u001b[1;33m)\u001b[0m\u001b[1;33m\u001b[0m\u001b[1;33m\u001b[0m\u001b[0m\n\u001b[0;32m    579\u001b[0m     \u001b[1;32melse\u001b[0m\u001b[1;33m:\u001b[0m\u001b[1;33m\u001b[0m\u001b[1;33m\u001b[0m\u001b[0m\n\u001b[1;32m--> 580\u001b[1;33m       \u001b[0mresult\u001b[0m \u001b[1;33m=\u001b[0m \u001b[0mself\u001b[0m\u001b[1;33m.\u001b[0m\u001b[0m_call\u001b[0m\u001b[1;33m(\u001b[0m\u001b[1;33m*\u001b[0m\u001b[0margs\u001b[0m\u001b[1;33m,\u001b[0m \u001b[1;33m**\u001b[0m\u001b[0mkwds\u001b[0m\u001b[1;33m)\u001b[0m\u001b[1;33m\u001b[0m\u001b[1;33m\u001b[0m\u001b[0m\n\u001b[0m\u001b[0;32m    581\u001b[0m \u001b[1;33m\u001b[0m\u001b[0m\n\u001b[0;32m    582\u001b[0m     \u001b[1;32mif\u001b[0m \u001b[0mtracing_count\u001b[0m \u001b[1;33m==\u001b[0m \u001b[0mself\u001b[0m\u001b[1;33m.\u001b[0m\u001b[0m_get_tracing_count\u001b[0m\u001b[1;33m(\u001b[0m\u001b[1;33m)\u001b[0m\u001b[1;33m:\u001b[0m\u001b[1;33m\u001b[0m\u001b[1;33m\u001b[0m\u001b[0m\n",
      "\u001b[1;32m~\\AppData\\Roaming\\Python\\Python38\\site-packages\\tensorflow\\python\\eager\\def_function.py\u001b[0m in \u001b[0;36m_call\u001b[1;34m(self, *args, **kwds)\u001b[0m\n\u001b[0;32m    609\u001b[0m       \u001b[1;31m# In this case we have created variables on the first call, so we run the\u001b[0m\u001b[1;33m\u001b[0m\u001b[1;33m\u001b[0m\u001b[1;33m\u001b[0m\u001b[0m\n\u001b[0;32m    610\u001b[0m       \u001b[1;31m# defunned version which is guaranteed to never create variables.\u001b[0m\u001b[1;33m\u001b[0m\u001b[1;33m\u001b[0m\u001b[1;33m\u001b[0m\u001b[0m\n\u001b[1;32m--> 611\u001b[1;33m       \u001b[1;32mreturn\u001b[0m \u001b[0mself\u001b[0m\u001b[1;33m.\u001b[0m\u001b[0m_stateless_fn\u001b[0m\u001b[1;33m(\u001b[0m\u001b[1;33m*\u001b[0m\u001b[0margs\u001b[0m\u001b[1;33m,\u001b[0m \u001b[1;33m**\u001b[0m\u001b[0mkwds\u001b[0m\u001b[1;33m)\u001b[0m  \u001b[1;31m# pylint: disable=not-callable\u001b[0m\u001b[1;33m\u001b[0m\u001b[1;33m\u001b[0m\u001b[0m\n\u001b[0m\u001b[0;32m    612\u001b[0m     \u001b[1;32melif\u001b[0m \u001b[0mself\u001b[0m\u001b[1;33m.\u001b[0m\u001b[0m_stateful_fn\u001b[0m \u001b[1;32mis\u001b[0m \u001b[1;32mnot\u001b[0m \u001b[1;32mNone\u001b[0m\u001b[1;33m:\u001b[0m\u001b[1;33m\u001b[0m\u001b[1;33m\u001b[0m\u001b[0m\n\u001b[0;32m    613\u001b[0m       \u001b[1;31m# Release the lock early so that multiple threads can perform the call\u001b[0m\u001b[1;33m\u001b[0m\u001b[1;33m\u001b[0m\u001b[1;33m\u001b[0m\u001b[0m\n",
      "\u001b[1;32m~\\AppData\\Roaming\\Python\\Python38\\site-packages\\tensorflow\\python\\eager\\function.py\u001b[0m in \u001b[0;36m__call__\u001b[1;34m(self, *args, **kwargs)\u001b[0m\n\u001b[0;32m   2418\u001b[0m     \u001b[1;32mwith\u001b[0m \u001b[0mself\u001b[0m\u001b[1;33m.\u001b[0m\u001b[0m_lock\u001b[0m\u001b[1;33m:\u001b[0m\u001b[1;33m\u001b[0m\u001b[1;33m\u001b[0m\u001b[0m\n\u001b[0;32m   2419\u001b[0m       \u001b[0mgraph_function\u001b[0m\u001b[1;33m,\u001b[0m \u001b[0margs\u001b[0m\u001b[1;33m,\u001b[0m \u001b[0mkwargs\u001b[0m \u001b[1;33m=\u001b[0m \u001b[0mself\u001b[0m\u001b[1;33m.\u001b[0m\u001b[0m_maybe_define_function\u001b[0m\u001b[1;33m(\u001b[0m\u001b[0margs\u001b[0m\u001b[1;33m,\u001b[0m \u001b[0mkwargs\u001b[0m\u001b[1;33m)\u001b[0m\u001b[1;33m\u001b[0m\u001b[1;33m\u001b[0m\u001b[0m\n\u001b[1;32m-> 2420\u001b[1;33m     \u001b[1;32mreturn\u001b[0m \u001b[0mgraph_function\u001b[0m\u001b[1;33m.\u001b[0m\u001b[0m_filtered_call\u001b[0m\u001b[1;33m(\u001b[0m\u001b[0margs\u001b[0m\u001b[1;33m,\u001b[0m \u001b[0mkwargs\u001b[0m\u001b[1;33m)\u001b[0m  \u001b[1;31m# pylint: disable=protected-access\u001b[0m\u001b[1;33m\u001b[0m\u001b[1;33m\u001b[0m\u001b[0m\n\u001b[0m\u001b[0;32m   2421\u001b[0m \u001b[1;33m\u001b[0m\u001b[0m\n\u001b[0;32m   2422\u001b[0m   \u001b[1;33m@\u001b[0m\u001b[0mproperty\u001b[0m\u001b[1;33m\u001b[0m\u001b[1;33m\u001b[0m\u001b[0m\n",
      "\u001b[1;32m~\\AppData\\Roaming\\Python\\Python38\\site-packages\\tensorflow\\python\\eager\\function.py\u001b[0m in \u001b[0;36m_filtered_call\u001b[1;34m(self, args, kwargs)\u001b[0m\n\u001b[0;32m   1659\u001b[0m       \u001b[0;31m`\u001b[0m\u001b[0margs\u001b[0m\u001b[0;31m`\u001b[0m \u001b[1;32mand\u001b[0m\u001b[0;31m \u001b[0m\u001b[0;31m`\u001b[0m\u001b[0mkwargs\u001b[0m\u001b[0;31m`\u001b[0m\u001b[1;33m.\u001b[0m\u001b[1;33m\u001b[0m\u001b[1;33m\u001b[0m\u001b[0m\n\u001b[0;32m   1660\u001b[0m     \"\"\"\n\u001b[1;32m-> 1661\u001b[1;33m     return self._call_flat(\n\u001b[0m\u001b[0;32m   1662\u001b[0m         (t for t in nest.flatten((args, kwargs), expand_composites=True)\n\u001b[0;32m   1663\u001b[0m          if isinstance(t, (ops.Tensor,\n",
      "\u001b[1;32m~\\AppData\\Roaming\\Python\\Python38\\site-packages\\tensorflow\\python\\eager\\function.py\u001b[0m in \u001b[0;36m_call_flat\u001b[1;34m(self, args, captured_inputs, cancellation_manager)\u001b[0m\n\u001b[0;32m   1743\u001b[0m         and executing_eagerly):\n\u001b[0;32m   1744\u001b[0m       \u001b[1;31m# No tape is watching; skip to running the function.\u001b[0m\u001b[1;33m\u001b[0m\u001b[1;33m\u001b[0m\u001b[1;33m\u001b[0m\u001b[0m\n\u001b[1;32m-> 1745\u001b[1;33m       return self._build_call_outputs(self._inference_function.call(\n\u001b[0m\u001b[0;32m   1746\u001b[0m           ctx, args, cancellation_manager=cancellation_manager))\n\u001b[0;32m   1747\u001b[0m     forward_backward = self._select_forward_and_backward_functions(\n",
      "\u001b[1;32m~\\AppData\\Roaming\\Python\\Python38\\site-packages\\tensorflow\\python\\eager\\function.py\u001b[0m in \u001b[0;36mcall\u001b[1;34m(self, ctx, args, cancellation_manager)\u001b[0m\n\u001b[0;32m    591\u001b[0m       \u001b[1;32mwith\u001b[0m \u001b[0m_InterpolateFunctionError\u001b[0m\u001b[1;33m(\u001b[0m\u001b[0mself\u001b[0m\u001b[1;33m)\u001b[0m\u001b[1;33m:\u001b[0m\u001b[1;33m\u001b[0m\u001b[1;33m\u001b[0m\u001b[0m\n\u001b[0;32m    592\u001b[0m         \u001b[1;32mif\u001b[0m \u001b[0mcancellation_manager\u001b[0m \u001b[1;32mis\u001b[0m \u001b[1;32mNone\u001b[0m\u001b[1;33m:\u001b[0m\u001b[1;33m\u001b[0m\u001b[1;33m\u001b[0m\u001b[0m\n\u001b[1;32m--> 593\u001b[1;33m           outputs = execute.execute(\n\u001b[0m\u001b[0;32m    594\u001b[0m               \u001b[0mstr\u001b[0m\u001b[1;33m(\u001b[0m\u001b[0mself\u001b[0m\u001b[1;33m.\u001b[0m\u001b[0msignature\u001b[0m\u001b[1;33m.\u001b[0m\u001b[0mname\u001b[0m\u001b[1;33m)\u001b[0m\u001b[1;33m,\u001b[0m\u001b[1;33m\u001b[0m\u001b[1;33m\u001b[0m\u001b[0m\n\u001b[0;32m    595\u001b[0m               \u001b[0mnum_outputs\u001b[0m\u001b[1;33m=\u001b[0m\u001b[0mself\u001b[0m\u001b[1;33m.\u001b[0m\u001b[0m_num_outputs\u001b[0m\u001b[1;33m,\u001b[0m\u001b[1;33m\u001b[0m\u001b[1;33m\u001b[0m\u001b[0m\n",
      "\u001b[1;32m~\\AppData\\Roaming\\Python\\Python38\\site-packages\\tensorflow\\python\\eager\\execute.py\u001b[0m in \u001b[0;36mquick_execute\u001b[1;34m(op_name, num_outputs, inputs, attrs, ctx, name)\u001b[0m\n\u001b[0;32m     57\u001b[0m   \u001b[1;32mtry\u001b[0m\u001b[1;33m:\u001b[0m\u001b[1;33m\u001b[0m\u001b[1;33m\u001b[0m\u001b[0m\n\u001b[0;32m     58\u001b[0m     \u001b[0mctx\u001b[0m\u001b[1;33m.\u001b[0m\u001b[0mensure_initialized\u001b[0m\u001b[1;33m(\u001b[0m\u001b[1;33m)\u001b[0m\u001b[1;33m\u001b[0m\u001b[1;33m\u001b[0m\u001b[0m\n\u001b[1;32m---> 59\u001b[1;33m     tensors = pywrap_tfe.TFE_Py_Execute(ctx._handle, device_name, op_name,\n\u001b[0m\u001b[0;32m     60\u001b[0m                                         inputs, attrs, num_outputs)\n\u001b[0;32m     61\u001b[0m   \u001b[1;32mexcept\u001b[0m \u001b[0mcore\u001b[0m\u001b[1;33m.\u001b[0m\u001b[0m_NotOkStatusException\u001b[0m \u001b[1;32mas\u001b[0m \u001b[0me\u001b[0m\u001b[1;33m:\u001b[0m\u001b[1;33m\u001b[0m\u001b[1;33m\u001b[0m\u001b[0m\n",
      "\u001b[1;31mKeyboardInterrupt\u001b[0m: "
     ]
    }
   ],
   "source": [
    "cnnhistory=model.fit(x_traincnn, y_train, batch_size=16, epochs=200, validation_data=(x_testcnn, y_test))"
   ]
  },
  {
   "cell_type": "code",
   "execution_count": 45,
   "metadata": {},
   "outputs": [
    {
     "data": {
      "image/png": "[encoded data removed]",
      "text/plain": [
       "<Figure size 432x288 with 1 Axes>"
      ]
     },
     "metadata": {
      "needs_background": "light"
     },
     "output_type": "display_data"
    }
   ],
   "source": [
    "plt.plot(cnnhistory.history['loss'])\n",
    "plt.plot(cnnhistory.history['val_loss'])\n",
    "plt.title('model loss')\n",
    "plt.ylabel('loss')\n",
    "plt.xlabel('epoch')\n",
    "plt.legend(['train', 'test'], loc='upper left')\n",
    "plt.show()"
   ]
  },
  {
   "cell_type": "markdown",
   "metadata": {},
   "source": [
    "## Saving the model"
   ]
  },
  {
   "cell_type": "code",
   "execution_count": 54,
   "metadata": {},
   "outputs": [
    {
     "name": "stdout",
     "output_type": "stream",
     "text": [
      "Saved trained model at D:\\Projects\\ESA\\audio-sentiment-analysis\\prototypes\\saved_models\\Emotion_Voice_Detection_Model.h5 \n"
     ]
    }
   ],
   "source": [
    "model_name = 'Emotion_Voice_Detection_Model.h5'\n",
    "save_dir = os.path.join(os.getcwd(), 'saved_models')\n",
    "# Save model and weights\n",
    "if not os.path.isdir(save_dir):\n",
    "    os.makedirs(save_dir)\n",
    "model_path = os.path.join(save_dir, model_name)\n",
    "model.save(model_path)\n",
    "print('Saved trained model at %s ' % model_path)"
   ]
  },
  {
   "cell_type": "code",
   "execution_count": 55,
   "metadata": {},
   "outputs": [],
   "source": [
    "import json\n",
    "model_json = model.to_json()\n",
    "with open(\"model.json\", \"w\") as json_file:\n",
    "    json_file.write(model_json)"
   ]
  },
  {
   "cell_type": "markdown",
   "metadata": {},
   "source": [
    "## Loading the model"
   ]
  },
  {
   "cell_type": "code",
   "execution_count": 56,
   "metadata": {},
   "outputs": [
    {
     "name": "stdout",
     "output_type": "stream",
     "text": [
      "Loaded model from disk\n",
      "accuracy: 43.73%\n"
     ]
    }
   ],
   "source": [
    "# loading json and creating model\n",
    "from keras.models import model_from_json\n",
    "json_file = open('model.json', 'r')\n",
    "loaded_model_json = json_file.read()\n",
    "json_file.close()\n",
    "loaded_model = model_from_json(loaded_model_json)\n",
    "# load weights into new model\n",
    "loaded_model.load_weights(\"saved_models/Emotion_Voice_Detection_Model.h5\")\n",
    "print(\"Loaded model from disk\")\n",
    " \n",
    "# evaluate loaded model on test data\n",
    "loaded_model.compile(loss='categorical_crossentropy', optimizer=opt, metrics=['accuracy'])\n",
    "score = loaded_model.evaluate(x_testcnn, y_test, verbose=0)\n",
    "print(\"%s: %.2f%%\" % (loaded_model.metrics_names[1], score[1]*100))"
   ]
  },
  {
   "cell_type": "markdown",
   "metadata": {},
   "source": [
    "## Predicting emotions on the test data"
   ]
  },
  {
   "cell_type": "code",
   "execution_count": 57,
   "metadata": {},
   "outputs": [
    {
     "name": "stdout",
     "output_type": "stream",
     "text": [
      "9/9 [==============================] - 0s 18ms/step\n"
     ]
    }
   ],
   "source": [
    "preds = loaded_model.predict(x_testcnn, \n",
    "                         batch_size=32, \n",
    "                         verbose=1)"
   ]
  },
  {
   "cell_type": "code",
   "execution_count": 58,
   "metadata": {},
   "outputs": [
    {
     "data": {
      "text/plain": [
       "array([[4.1288856e-01, 3.6293951e-01, 5.8791329e-15, ..., 1.7171131e-27,\n",
       "        2.8766869e-03, 5.1190445e-12],\n",
       "       [2.9769119e-02, 1.2676467e-04, 7.1895045e-10, ..., 6.9995987e-04,\n",
       "        2.7670944e-02, 1.7470681e-08],\n",
       "       [1.6386710e-07, 1.5108687e-11, 7.3987315e-03, ..., 2.5659572e-13,\n",
       "        4.1134673e-01, 1.6568870e-07],\n",
       "       ...,\n",
       "       [1.6837008e-09, 1.2381636e-08, 6.5583740e-06, ..., 4.9442173e-21,\n",
       "        1.6495692e-07, 3.6956369e-22],\n",
       "       [1.5823890e-02, 8.1896985e-01, 1.0817103e-08, ..., 1.6807245e-04,\n",
       "        9.0219365e-10, 1.9349322e-02],\n",
       "       [8.5235088e-06, 9.9996114e-01, 1.2197758e-07, ..., 2.9652779e-22,\n",
       "        3.0094106e-05, 2.9796356e-09]], dtype=float32)"
      ]
     },
     "execution_count": 58,
     "metadata": {},
     "output_type": "execute_result"
    }
   ],
   "source": [
    "preds"
   ]
  },
  {
   "cell_type": "code",
   "execution_count": 59,
   "metadata": {},
   "outputs": [],
   "source": [
    "preds1=preds.argmax(axis=1)"
   ]
  },
  {
   "cell_type": "code",
   "execution_count": 60,
   "metadata": {},
   "outputs": [
    {
     "data": {
      "text/plain": [
       "array([0, 4, 3, 2, 3, 7, 3, 7, 0, 6, 2, 5, 6, 4, 7, 3, 5, 0, 1, 7, 5, 6,\n",
       "       7, 0, 6, 6, 6, 3, 4, 4, 3, 7, 2, 0, 5, 0, 0, 7, 6, 1, 6, 0, 4, 4,\n",
       "       4, 3, 4, 3, 3, 6, 0, 3, 0, 6, 4, 5, 4, 6, 1, 0, 7, 6, 4, 2, 5, 6,\n",
       "       1, 7, 2, 4, 0, 3, 0, 6, 5, 2, 4, 7, 0, 7, 6, 0, 4, 4, 1, 4, 7, 4,\n",
       "       7, 0, 7, 4, 6, 2, 6, 4, 3, 1, 6, 5, 4, 2, 2, 1, 4, 5, 7, 1, 6, 6,\n",
       "       3, 4, 0, 7, 3, 3, 5, 6, 7, 0, 0, 1, 1, 4, 3, 0, 3, 6, 4, 3, 2, 0,\n",
       "       4, 0, 3, 2, 2, 4, 6, 1, 7, 6, 6, 3, 6, 7, 3, 3, 3, 7, 4, 5, 1, 0,\n",
       "       2, 5, 6, 7, 6, 5, 7, 6, 4, 6, 0, 4, 1, 1, 1, 3, 6, 6, 6, 7, 4, 0,\n",
       "       1, 3, 4, 6, 2, 7, 7, 0, 2, 0, 0, 1, 3, 7, 3, 7, 0, 6, 7, 4, 1, 6,\n",
       "       7, 3, 2, 0, 1, 5, 7, 7, 4, 5, 0, 1, 2, 1, 4, 6, 3, 1, 6, 1, 0, 6,\n",
       "       4, 6, 7, 4, 0, 3, 0, 4, 2, 5, 1, 6, 0, 6, 1, 4, 0, 7, 6, 7, 7, 3,\n",
       "       4, 5, 7, 4, 1, 2, 7, 0, 6, 5, 4, 3, 6, 4, 4, 3, 7, 5, 5, 0, 3, 4,\n",
       "       7, 5, 1, 2, 6, 3, 4, 7, 0, 3, 5, 1, 4, 1, 1], dtype=int64)"
      ]
     },
     "execution_count": 60,
     "metadata": {},
     "output_type": "execute_result"
    }
   ],
   "source": [
    "preds1"
   ]
  },
  {
   "cell_type": "code",
   "execution_count": 61,
   "metadata": {},
   "outputs": [],
   "source": [
    "abc = preds1.astype(int).flatten()"
   ]
  },
  {
   "cell_type": "code",
   "execution_count": 62,
   "metadata": {},
   "outputs": [],
   "source": [
    "predictions = (lb.inverse_transform((abc)))"
   ]
  },
  {
   "cell_type": "code",
   "execution_count": 63,
   "metadata": {},
   "outputs": [
    {
     "data": {
      "text/html": [
       "<div>\n",
       "<style scoped>\n",
       "    .dataframe tbody tr th:only-of-type {\n",
       "        vertical-align: middle;\n",
       "    }\n",
       "\n",
       "    .dataframe tbody tr th {\n",
       "        vertical-align: top;\n",
       "    }\n",
       "\n",
       "    .dataframe thead th {\n",
       "        text-align: right;\n",
       "    }\n",
       "</style>\n",
       "<table border=\"1\" class=\"dataframe\">\n",
       "  <thead>\n",
       "    <tr style=\"text-align: right;\">\n",
       "      <th></th>\n",
       "      <th>predictedvalues</th>\n",
       "    </tr>\n",
       "  </thead>\n",
       "  <tbody>\n",
       "    <tr>\n",
       "      <th>0</th>\n",
       "      <td>Happy</td>\n",
       "    </tr>\n",
       "    <tr>\n",
       "      <th>1</th>\n",
       "      <td>fearful</td>\n",
       "    </tr>\n",
       "    <tr>\n",
       "      <th>2</th>\n",
       "      <td>disgust</td>\n",
       "    </tr>\n",
       "    <tr>\n",
       "      <th>3</th>\n",
       "      <td>calm</td>\n",
       "    </tr>\n",
       "    <tr>\n",
       "      <th>4</th>\n",
       "      <td>disgust</td>\n",
       "    </tr>\n",
       "    <tr>\n",
       "      <th>...</th>\n",
       "      <td>...</td>\n",
       "    </tr>\n",
       "    <tr>\n",
       "      <th>274</th>\n",
       "      <td>neutral</td>\n",
       "    </tr>\n",
       "    <tr>\n",
       "      <th>275</th>\n",
       "      <td>angry</td>\n",
       "    </tr>\n",
       "    <tr>\n",
       "      <th>276</th>\n",
       "      <td>fearful</td>\n",
       "    </tr>\n",
       "    <tr>\n",
       "      <th>277</th>\n",
       "      <td>angry</td>\n",
       "    </tr>\n",
       "    <tr>\n",
       "      <th>278</th>\n",
       "      <td>angry</td>\n",
       "    </tr>\n",
       "  </tbody>\n",
       "</table>\n",
       "<p>279 rows × 1 columns</p>\n",
       "</div>"
      ],
      "text/plain": [
       "    predictedvalues\n",
       "0             Happy\n",
       "1           fearful\n",
       "2           disgust\n",
       "3              calm\n",
       "4           disgust\n",
       "..              ...\n",
       "274         neutral\n",
       "275           angry\n",
       "276         fearful\n",
       "277           angry\n",
       "278           angry\n",
       "\n",
       "[279 rows x 1 columns]"
      ]
     },
     "execution_count": 63,
     "metadata": {},
     "output_type": "execute_result"
    }
   ],
   "source": [
    "preddf = pd.DataFrame({'predictedvalues': predictions})\n",
    "preddf"
   ]
  },
  {
   "cell_type": "code",
   "execution_count": 64,
   "metadata": {},
   "outputs": [],
   "source": [
    "actual=y_test.argmax(axis=1)\n",
    "abc123 = actual.astype(int).flatten()\n",
    "actualvalues = (lb.inverse_transform((abc123)))"
   ]
  },
  {
   "cell_type": "code",
   "execution_count": 65,
   "metadata": {},
   "outputs": [
    {
     "data": {
      "text/html": [
       "<div>\n",
       "<style scoped>\n",
       "    .dataframe tbody tr th:only-of-type {\n",
       "        vertical-align: middle;\n",
       "    }\n",
       "\n",
       "    .dataframe tbody tr th {\n",
       "        vertical-align: top;\n",
       "    }\n",
       "\n",
       "    .dataframe thead th {\n",
       "        text-align: right;\n",
       "    }\n",
       "</style>\n",
       "<table border=\"1\" class=\"dataframe\">\n",
       "  <thead>\n",
       "    <tr style=\"text-align: right;\">\n",
       "      <th></th>\n",
       "      <th>actualvalues</th>\n",
       "    </tr>\n",
       "  </thead>\n",
       "  <tbody>\n",
       "    <tr>\n",
       "      <th>0</th>\n",
       "      <td>disgust</td>\n",
       "    </tr>\n",
       "    <tr>\n",
       "      <th>1</th>\n",
       "      <td>fearful</td>\n",
       "    </tr>\n",
       "    <tr>\n",
       "      <th>2</th>\n",
       "      <td>disgust</td>\n",
       "    </tr>\n",
       "    <tr>\n",
       "      <th>3</th>\n",
       "      <td>sad</td>\n",
       "    </tr>\n",
       "    <tr>\n",
       "      <th>4</th>\n",
       "      <td>disgust</td>\n",
       "    </tr>\n",
       "    <tr>\n",
       "      <th>...</th>\n",
       "      <td>...</td>\n",
       "    </tr>\n",
       "    <tr>\n",
       "      <th>274</th>\n",
       "      <td>sad</td>\n",
       "    </tr>\n",
       "    <tr>\n",
       "      <th>275</th>\n",
       "      <td>surprised</td>\n",
       "    </tr>\n",
       "    <tr>\n",
       "      <th>276</th>\n",
       "      <td>calm</td>\n",
       "    </tr>\n",
       "    <tr>\n",
       "      <th>277</th>\n",
       "      <td>Happy</td>\n",
       "    </tr>\n",
       "    <tr>\n",
       "      <th>278</th>\n",
       "      <td>Happy</td>\n",
       "    </tr>\n",
       "  </tbody>\n",
       "</table>\n",
       "<p>279 rows × 1 columns</p>\n",
       "</div>"
      ],
      "text/plain": [
       "    actualvalues\n",
       "0        disgust\n",
       "1        fearful\n",
       "2        disgust\n",
       "3            sad\n",
       "4        disgust\n",
       "..           ...\n",
       "274          sad\n",
       "275    surprised\n",
       "276         calm\n",
       "277        Happy\n",
       "278        Happy\n",
       "\n",
       "[279 rows x 1 columns]"
      ]
     },
     "execution_count": 65,
     "metadata": {},
     "output_type": "execute_result"
    }
   ],
   "source": [
    "actualdf = pd.DataFrame({'actualvalues': actualvalues})\n",
    "actualdf"
   ]
  },
  {
   "cell_type": "code",
   "execution_count": 66,
   "metadata": {},
   "outputs": [],
   "source": [
    "finaldf = actualdf.join(preddf)"
   ]
  },
  {
   "cell_type": "markdown",
   "metadata": {},
   "source": [
    "## Actual v/s Predicted emotions"
   ]
  },
  {
   "cell_type": "code",
   "execution_count": 67,
   "metadata": {},
   "outputs": [
    {
     "data": {
      "text/html": [
       "<div>\n",
       "<style scoped>\n",
       "    .dataframe tbody tr th:only-of-type {\n",
       "        vertical-align: middle;\n",
       "    }\n",
       "\n",
       "    .dataframe tbody tr th {\n",
       "        vertical-align: top;\n",
       "    }\n",
       "\n",
       "    .dataframe thead th {\n",
       "        text-align: right;\n",
       "    }\n",
       "</style>\n",
       "<table border=\"1\" class=\"dataframe\">\n",
       "  <thead>\n",
       "    <tr style=\"text-align: right;\">\n",
       "      <th></th>\n",
       "      <th>actualvalues</th>\n",
       "      <th>predictedvalues</th>\n",
       "    </tr>\n",
       "  </thead>\n",
       "  <tbody>\n",
       "    <tr>\n",
       "      <th>0</th>\n",
       "      <td>disgust</td>\n",
       "      <td>Happy</td>\n",
       "    </tr>\n",
       "    <tr>\n",
       "      <th>1</th>\n",
       "      <td>fearful</td>\n",
       "      <td>fearful</td>\n",
       "    </tr>\n",
       "    <tr>\n",
       "      <th>2</th>\n",
       "      <td>disgust</td>\n",
       "      <td>disgust</td>\n",
       "    </tr>\n",
       "    <tr>\n",
       "      <th>3</th>\n",
       "      <td>sad</td>\n",
       "      <td>calm</td>\n",
       "    </tr>\n",
       "  </tbody>\n",
       "</table>\n",
       "</div>"
      ],
      "text/plain": [
       "  actualvalues predictedvalues\n",
       "0      disgust           Happy\n",
       "1      fearful         fearful\n",
       "2      disgust         disgust\n",
       "3          sad            calm"
      ]
     },
     "execution_count": 67,
     "metadata": {},
     "output_type": "execute_result"
    }
   ],
   "source": [
    "finaldf[0:4]"
   ]
  },
  {
   "cell_type": "code",
   "execution_count": 68,
   "metadata": {},
   "outputs": [
    {
     "data": {
      "text/html": [
       "<div>\n",
       "<style scoped>\n",
       "    .dataframe tbody tr th:only-of-type {\n",
       "        vertical-align: middle;\n",
       "    }\n",
       "\n",
       "    .dataframe tbody tr th {\n",
       "        vertical-align: top;\n",
       "    }\n",
       "\n",
       "    .dataframe thead th {\n",
       "        text-align: right;\n",
       "    }\n",
       "</style>\n",
       "<table border=\"1\" class=\"dataframe\">\n",
       "  <thead>\n",
       "    <tr style=\"text-align: right;\">\n",
       "      <th></th>\n",
       "      <th>predictedvalues</th>\n",
       "    </tr>\n",
       "    <tr>\n",
       "      <th>actualvalues</th>\n",
       "      <th></th>\n",
       "    </tr>\n",
       "  </thead>\n",
       "  <tbody>\n",
       "    <tr>\n",
       "      <th>Happy</th>\n",
       "      <td>26</td>\n",
       "    </tr>\n",
       "    <tr>\n",
       "      <th>angry</th>\n",
       "      <td>40</td>\n",
       "    </tr>\n",
       "    <tr>\n",
       "      <th>calm</th>\n",
       "      <td>41</td>\n",
       "    </tr>\n",
       "    <tr>\n",
       "      <th>disgust</th>\n",
       "      <td>38</td>\n",
       "    </tr>\n",
       "    <tr>\n",
       "      <th>fearful</th>\n",
       "      <td>39</td>\n",
       "    </tr>\n",
       "    <tr>\n",
       "      <th>neutral</th>\n",
       "      <td>20</td>\n",
       "    </tr>\n",
       "    <tr>\n",
       "      <th>sad</th>\n",
       "      <td>37</td>\n",
       "    </tr>\n",
       "    <tr>\n",
       "      <th>surprised</th>\n",
       "      <td>38</td>\n",
       "    </tr>\n",
       "  </tbody>\n",
       "</table>\n",
       "</div>"
      ],
      "text/plain": [
       "              predictedvalues\n",
       "actualvalues                 \n",
       "Happy                      26\n",
       "angry                      40\n",
       "calm                       41\n",
       "disgust                    38\n",
       "fearful                    39\n",
       "neutral                    20\n",
       "sad                        37\n",
       "surprised                  38"
      ]
     },
     "execution_count": 68,
     "metadata": {},
     "output_type": "execute_result"
    }
   ],
   "source": [
    "finaldf.groupby('actualvalues').count()"
   ]
  },
  {
   "cell_type": "code",
   "execution_count": 69,
   "metadata": {},
   "outputs": [
    {
     "data": {
      "text/html": [
       "<div>\n",
       "<style scoped>\n",
       "    .dataframe tbody tr th:only-of-type {\n",
       "        vertical-align: middle;\n",
       "    }\n",
       "\n",
       "    .dataframe tbody tr th {\n",
       "        vertical-align: top;\n",
       "    }\n",
       "\n",
       "    .dataframe thead th {\n",
       "        text-align: right;\n",
       "    }\n",
       "</style>\n",
       "<table border=\"1\" class=\"dataframe\">\n",
       "  <thead>\n",
       "    <tr style=\"text-align: right;\">\n",
       "      <th></th>\n",
       "      <th>actualvalues</th>\n",
       "    </tr>\n",
       "    <tr>\n",
       "      <th>predictedvalues</th>\n",
       "      <th></th>\n",
       "    </tr>\n",
       "  </thead>\n",
       "  <tbody>\n",
       "    <tr>\n",
       "      <th>Happy</th>\n",
       "      <td>39</td>\n",
       "    </tr>\n",
       "    <tr>\n",
       "      <th>angry</th>\n",
       "      <td>30</td>\n",
       "    </tr>\n",
       "    <tr>\n",
       "      <th>calm</th>\n",
       "      <td>20</td>\n",
       "    </tr>\n",
       "    <tr>\n",
       "      <th>disgust</th>\n",
       "      <td>36</td>\n",
       "    </tr>\n",
       "    <tr>\n",
       "      <th>fearful</th>\n",
       "      <td>46</td>\n",
       "    </tr>\n",
       "    <tr>\n",
       "      <th>neutral</th>\n",
       "      <td>22</td>\n",
       "    </tr>\n",
       "    <tr>\n",
       "      <th>sad</th>\n",
       "      <td>46</td>\n",
       "    </tr>\n",
       "    <tr>\n",
       "      <th>surprised</th>\n",
       "      <td>40</td>\n",
       "    </tr>\n",
       "  </tbody>\n",
       "</table>\n",
       "</div>"
      ],
      "text/plain": [
       "                 actualvalues\n",
       "predictedvalues              \n",
       "Happy                      39\n",
       "angry                      30\n",
       "calm                       20\n",
       "disgust                    36\n",
       "fearful                    46\n",
       "neutral                    22\n",
       "sad                        46\n",
       "surprised                  40"
      ]
     },
     "execution_count": 69,
     "metadata": {},
     "output_type": "execute_result"
    }
   ],
   "source": [
    "finaldf.groupby('predictedvalues').count()"
   ]
  },
  {
   "cell_type": "code",
   "execution_count": 70,
   "metadata": {},
   "outputs": [],
   "source": [
    "finaldf.to_csv('Predictions.csv', index=False)"
   ]
  },
  {
   "cell_type": "markdown",
   "metadata": {},
   "source": [
    "## Live Demo"
   ]
  },
  {
   "cell_type": "markdown",
   "metadata": {},
   "source": [
    "## you could find this track on below link:"
   ]
  },
  {
   "cell_type": "markdown",
   "metadata": {},
   "source": [
    "https://tuenl.sharepoint.com/sites/gad_cbo/JPC/MC/ESA%20PDEng%20ST%20Project/Forms/AllItems.aspx?viewid=235c9f56%2Db4dc%2D418e%2D8800%2Dd0cde58fff30&id=%2Fsites%2Fgad%5Fcbo%2FJPC%2FMC%2FESA%20PDEng%20ST%20Project%2FModelsAndData%2FAudio%2FDevelopment%2Fdata%2Ftone%5Fcnn%5Fhappy%5Fangry%5Fdataset%5Fsample%5Fprediction%5Ftracks"
   ]
  },
  {
   "cell_type": "code",
   "execution_count": 71,
   "metadata": {},
   "outputs": [],
   "source": [
    "X, sample_rate = librosa.load(str(base_path) +'\\\\Recording_hateYou.wav', res_type='kaiser_fast',duration=2.5,sr=22050*2,offset=0.5)\n",
    "sample_rate = np.array(sample_rate)\n",
    "mfccs = np.mean(librosa.feature.mfcc(y=X, sr=sample_rate, n_mfcc=13),axis=0)\n",
    "featurelive = mfccs\n",
    "livedf2 = featurelive"
   ]
  },
  {
   "cell_type": "code",
   "execution_count": 72,
   "metadata": {},
   "outputs": [],
   "source": [
    "livedf2= pd.DataFrame(data=livedf2)"
   ]
  },
  {
   "cell_type": "code",
   "execution_count": 73,
   "metadata": {},
   "outputs": [],
   "source": [
    "livedf2 = livedf2.stack().to_frame().T"
   ]
  },
  {
   "cell_type": "code",
   "execution_count": 74,
   "metadata": {},
   "outputs": [
    {
     "data": {
      "text/html": [
       "<div>\n",
       "<style scoped>\n",
       "    .dataframe tbody tr th:only-of-type {\n",
       "        vertical-align: middle;\n",
       "    }\n",
       "\n",
       "    .dataframe tbody tr th {\n",
       "        vertical-align: top;\n",
       "    }\n",
       "\n",
       "    .dataframe thead tr th {\n",
       "        text-align: left;\n",
       "    }\n",
       "</style>\n",
       "<table border=\"1\" class=\"dataframe\">\n",
       "  <thead>\n",
       "    <tr>\n",
       "      <th></th>\n",
       "      <th>0</th>\n",
       "      <th>1</th>\n",
       "      <th>2</th>\n",
       "      <th>3</th>\n",
       "      <th>4</th>\n",
       "      <th>5</th>\n",
       "      <th>6</th>\n",
       "      <th>7</th>\n",
       "      <th>8</th>\n",
       "      <th>9</th>\n",
       "      <th>...</th>\n",
       "      <th>206</th>\n",
       "      <th>207</th>\n",
       "      <th>208</th>\n",
       "      <th>209</th>\n",
       "      <th>210</th>\n",
       "      <th>211</th>\n",
       "      <th>212</th>\n",
       "      <th>213</th>\n",
       "      <th>214</th>\n",
       "      <th>215</th>\n",
       "    </tr>\n",
       "    <tr>\n",
       "      <th></th>\n",
       "      <th>0</th>\n",
       "      <th>0</th>\n",
       "      <th>0</th>\n",
       "      <th>0</th>\n",
       "      <th>0</th>\n",
       "      <th>0</th>\n",
       "      <th>0</th>\n",
       "      <th>0</th>\n",
       "      <th>0</th>\n",
       "      <th>0</th>\n",
       "      <th>...</th>\n",
       "      <th>0</th>\n",
       "      <th>0</th>\n",
       "      <th>0</th>\n",
       "      <th>0</th>\n",
       "      <th>0</th>\n",
       "      <th>0</th>\n",
       "      <th>0</th>\n",
       "      <th>0</th>\n",
       "      <th>0</th>\n",
       "      <th>0</th>\n",
       "    </tr>\n",
       "  </thead>\n",
       "  <tbody>\n",
       "    <tr>\n",
       "      <th>0</th>\n",
       "      <td>-35.437946</td>\n",
       "      <td>-35.313591</td>\n",
       "      <td>-36.351669</td>\n",
       "      <td>-36.339912</td>\n",
       "      <td>-36.431698</td>\n",
       "      <td>-36.478317</td>\n",
       "      <td>-36.34008</td>\n",
       "      <td>-36.433208</td>\n",
       "      <td>-36.177975</td>\n",
       "      <td>-36.240341</td>\n",
       "      <td>...</td>\n",
       "      <td>-35.053753</td>\n",
       "      <td>-35.638748</td>\n",
       "      <td>-35.557884</td>\n",
       "      <td>-35.956326</td>\n",
       "      <td>-35.991673</td>\n",
       "      <td>-35.747616</td>\n",
       "      <td>-36.217129</td>\n",
       "      <td>-36.920151</td>\n",
       "      <td>-34.820885</td>\n",
       "      <td>-32.044918</td>\n",
       "    </tr>\n",
       "  </tbody>\n",
       "</table>\n",
       "<p>1 rows × 216 columns</p>\n",
       "</div>"
      ],
      "text/plain": [
       "         0          1          2          3          4          5         6    \\\n",
       "           0          0          0          0          0          0         0   \n",
       "0 -35.437946 -35.313591 -36.351669 -36.339912 -36.431698 -36.478317 -36.34008   \n",
       "\n",
       "         7          8          9    ...        206        207        208  \\\n",
       "           0          0          0  ...          0          0          0   \n",
       "0 -36.433208 -36.177975 -36.240341  ... -35.053753 -35.638748 -35.557884   \n",
       "\n",
       "         209        210        211        212        213        214        215  \n",
       "           0          0          0          0          0          0          0  \n",
       "0 -35.956326 -35.991673 -35.747616 -36.217129 -36.920151 -34.820885 -32.044918  \n",
       "\n",
       "[1 rows x 216 columns]"
      ]
     },
     "execution_count": 74,
     "metadata": {},
     "output_type": "execute_result"
    }
   ],
   "source": [
    "livedf2"
   ]
  },
  {
   "cell_type": "code",
   "execution_count": 75,
   "metadata": {},
   "outputs": [],
   "source": [
    "twodim= np.expand_dims(livedf2, axis=2)"
   ]
  },
  {
   "cell_type": "code",
   "execution_count": 76,
   "metadata": {
    "scrolled": true
   },
   "outputs": [
    {
     "name": "stdout",
     "output_type": "stream",
     "text": [
      "1/1 [==============================] - 0s 2ms/step\n"
     ]
    }
   ],
   "source": [
    "livepreds = loaded_model.predict(twodim, \n",
    "                         batch_size=32, \n",
    "                         verbose=1)"
   ]
  },
  {
   "cell_type": "code",
   "execution_count": 77,
   "metadata": {},
   "outputs": [
    {
     "data": {
      "text/plain": [
       "array([[2.1903255e-05, 1.1687026e-11, 2.5173745e-19, 4.0671631e-18,\n",
       "        1.4626336e-07, 0.0000000e+00, 2.0932359e-19, 9.9997795e-01]],\n",
       "      dtype=float32)"
      ]
     },
     "execution_count": 77,
     "metadata": {},
     "output_type": "execute_result"
    }
   ],
   "source": [
    "livepreds"
   ]
  },
  {
   "cell_type": "code",
   "execution_count": 78,
   "metadata": {},
   "outputs": [],
   "source": [
    "livepreds1=livepreds.argmax(axis=1)"
   ]
  },
  {
   "cell_type": "code",
   "execution_count": 79,
   "metadata": {},
   "outputs": [],
   "source": [
    "liveabc = livepreds1.astype(int).flatten()"
   ]
  },
  {
   "cell_type": "code",
   "execution_count": 80,
   "metadata": {},
   "outputs": [
    {
     "data": {
      "text/plain": [
       "array(['surprised'], dtype=object)"
      ]
     },
     "execution_count": 80,
     "metadata": {},
     "output_type": "execute_result"
    }
   ],
   "source": [
    "livepredictions = (lb.inverse_transform((liveabc)))\n",
    "livepredictions"
   ]
  }
 ],
 "metadata": {
  "kernelspec": {
   "display_name": "Python 3",
   "language": "python",
   "name": "python3"
  },
  "language_info": {
   "codemirror_mode": {
    "name": "ipython",
    "version": 3
   },
   "file_extension": ".py",
   "mimetype": "text/x-python",
   "name": "python",
   "nbconvert_exporter": "python",
   "pygments_lexer": "ipython3",
   "version": "3.8.3"
  }
 },
 "nbformat": 4,
 "nbformat_minor": 2
}
