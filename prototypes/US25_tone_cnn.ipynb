{
 "cells": [
  {
   "cell_type": "markdown",
   "metadata": {},
   "source": [
    "## Importing the required libraries"
   ]
  },
  {
   "cell_type": "code",
   "execution_count": 3,
   "metadata": {},
   "outputs": [],
   "source": [
    "import librosa\n",
    "import librosa.display\n",
    "import numpy as np\n",
    "import matplotlib.pyplot as plt\n",
    "import tensorflow as tf\n",
    "from matplotlib.pyplot import specgram\n",
    "import keras\n",
    "from keras.preprocessing import sequence\n",
    "from keras.models import Sequential\n",
    "from keras.layers import Dense, Embedding\n",
    "from keras.layers import LSTM\n",
    "from keras.preprocessing.text import Tokenizer\n",
    "from keras.preprocessing.sequence import pad_sequences\n",
    "from keras.utils import to_categorical\n",
    "from keras.layers import Input, Flatten, Dropout, Activation\n",
    "from keras.layers import Conv1D, MaxPooling1D, AveragePooling1D\n",
    "from keras.models import Model\n",
    "from keras.callbacks import ModelCheckpoint\n",
    "from sklearn.metrics import confusion_matrix\n",
    "import os\n",
    "from keras import regularizers"
   ]
  },
  {
   "cell_type": "code",
   "execution_count": 5,
   "metadata": {
    "scrolled": true
   },
   "outputs": [
    {
     "name": "stdout",
     "output_type": "stream",
     "text": [
      "Populating the interactive namespace from numpy and matplotlib\n"
     ]
    }
   ],
   "source": [
    "%pylab inline\n",
    "import pandas as pd\n",
    "import librosa\n",
    "import glob \n",
    "from keras.callbacks import EarlyStopping\n",
    "from pathlib import Path"
   ]
  },
  {
   "cell_type": "markdown",
   "metadata": {},
   "source": [
    "## Link to dataset"
   ]
  },
  {
   "cell_type": "markdown",
   "metadata": {},
   "source": [
    "https://tuenl.sharepoint.com/sites/gad_cbo/JPC/MC/ESA%20PDEng%20ST%20Project/Forms/AllItems.aspx?viewid=235c9f56%2Db4dc%2D418e%2D8800%2Dd0cde58fff30&id=%2Fsites%2Fgad%5Fcbo%2FJPC%2FMC%2FESA%20PDEng%20ST%20Project%2FModelsAndData%2FAudio%2FDevelopment%2Fdata%2Ftone%5Fcnn%5Fhappy%5Fangry%5Fdataset"
   ]
  },
  {
   "cell_type": "code",
   "execution_count": 10,
   "metadata": {},
   "outputs": [],
   "source": [
    "# Walking a directory tree and getting the names and directories of the train and test files \n",
    "mydiclist={}\n",
    "curr_path = os.getcwd()\n",
    "crr_path = Path(curr_path)\n",
    "parent_path = crr_path.parent\n",
    "base_path= str(parent_path)+'\\\\data\\\\tone_cnn_8_emotions_dataset\\\\'\n",
    "for dirpath, dirnames, files in os.walk(base_path):\n",
    "    for file_name in files:\n",
    "        if file_name.endswith('.wav'):\n",
    "            mydiclist[file_name]= dirpath"
   ]
  },
  {
   "cell_type": "code",
   "execution_count": 4,
   "metadata": {},
   "outputs": [],
   "source": [
    "#from pathlib import Path\n",
    "#curr_path = os.getcwd()\n",
    "#crr_path = Path(curr_path)\n",
    "#parent_path = crr_path.parent\n",
    "#path = str(parent_path) +  '\\\\Actor_01\\\\'\n",
    "#mylist= os.listdir(path)\n",
    "#print(type(mylist))"
   ]
  },
  {
   "cell_type": "markdown",
   "metadata": {},
   "source": [
    "## Setting the labels"
   ]
  },
  {
   "cell_type": "code",
   "execution_count": 12,
   "metadata": {},
   "outputs": [],
   "source": [
    "feeling_list=[]\n",
    "       \n",
    "# (01 = neutral, 02 = calm, 03 = happy, 04 = sad, 05 = angry, 06 = fearful, 07 = disgust, 08 = surprised).        \n",
    "        \n",
    "feeling_list=[]\n",
    "for key in mydiclist:    \n",
    "    if key[6:-16]=='01':\n",
    "        feeling_list.append('neutral')\n",
    "    if key[6:-16]=='02':\n",
    "        feeling_list.append('calm')\n",
    "    elif key[6:-16]=='03':\n",
    "        feeling_list.append('Happy')\n",
    "    elif key[6:-16]=='04':\n",
    "        feeling_list.append('sad')\n",
    "    elif key[6:-16]=='05':\n",
    "        feeling_list.append('angry')\n",
    "    elif key[6:-16]=='06':\n",
    "        feeling_list.append('fearful')\n",
    "    elif key[6:-16]=='07': \n",
    "        feeling_list.append('disgust')\n",
    "    elif key[6:-16]=='08': \n",
    "        feeling_list.append('surprised')\n",
    "   "
   ]
  },
  {
   "cell_type": "code",
   "execution_count": 13,
   "metadata": {},
   "outputs": [],
   "source": [
    "labels = pd.DataFrame(feeling_list)"
   ]
  },
  {
   "cell_type": "code",
   "execution_count": 14,
   "metadata": {
    "scrolled": true
   },
   "outputs": [
    {
     "data": {
      "text/html": [
       "<div>\n",
       "<style scoped>\n",
       "    .dataframe tbody tr th:only-of-type {\n",
       "        vertical-align: middle;\n",
       "    }\n",
       "\n",
       "    .dataframe tbody tr th {\n",
       "        vertical-align: top;\n",
       "    }\n",
       "\n",
       "    .dataframe thead th {\n",
       "        text-align: right;\n",
       "    }\n",
       "</style>\n",
       "<table border=\"1\" class=\"dataframe\">\n",
       "  <thead>\n",
       "    <tr style=\"text-align: right;\">\n",
       "      <th></th>\n",
       "      <th>0</th>\n",
       "    </tr>\n",
       "  </thead>\n",
       "  <tbody>\n",
       "    <tr>\n",
       "      <th>0</th>\n",
       "      <td>neutral</td>\n",
       "    </tr>\n",
       "    <tr>\n",
       "      <th>1</th>\n",
       "      <td>neutral</td>\n",
       "    </tr>\n",
       "    <tr>\n",
       "      <th>2</th>\n",
       "      <td>neutral</td>\n",
       "    </tr>\n",
       "    <tr>\n",
       "      <th>3</th>\n",
       "      <td>neutral</td>\n",
       "    </tr>\n",
       "    <tr>\n",
       "      <th>4</th>\n",
       "      <td>calm</td>\n",
       "    </tr>\n",
       "    <tr>\n",
       "      <th>...</th>\n",
       "      <td>...</td>\n",
       "    </tr>\n",
       "    <tr>\n",
       "      <th>1435</th>\n",
       "      <td>surprised</td>\n",
       "    </tr>\n",
       "    <tr>\n",
       "      <th>1436</th>\n",
       "      <td>surprised</td>\n",
       "    </tr>\n",
       "    <tr>\n",
       "      <th>1437</th>\n",
       "      <td>surprised</td>\n",
       "    </tr>\n",
       "    <tr>\n",
       "      <th>1438</th>\n",
       "      <td>surprised</td>\n",
       "    </tr>\n",
       "    <tr>\n",
       "      <th>1439</th>\n",
       "      <td>surprised</td>\n",
       "    </tr>\n",
       "  </tbody>\n",
       "</table>\n",
       "<p>1440 rows × 1 columns</p>\n",
       "</div>"
      ],
      "text/plain": [
       "              0\n",
       "0       neutral\n",
       "1       neutral\n",
       "2       neutral\n",
       "3       neutral\n",
       "4          calm\n",
       "...         ...\n",
       "1435  surprised\n",
       "1436  surprised\n",
       "1437  surprised\n",
       "1438  surprised\n",
       "1439  surprised\n",
       "\n",
       "[1440 rows x 1 columns]"
      ]
     },
     "execution_count": 14,
     "metadata": {},
     "output_type": "execute_result"
    }
   ],
   "source": [
    "labels[:]"
   ]
  },
  {
   "cell_type": "markdown",
   "metadata": {},
   "source": [
    "## Getting the features of audio files using librosa"
   ]
  },
  {
   "cell_type": "code",
   "execution_count": 15,
   "metadata": {},
   "outputs": [],
   "source": [
    "df = pd.DataFrame(columns=['feature'])\n",
    "bookmark=0\n",
    "for key in mydiclist:\n",
    "    X, sample_rate = librosa.load(mydiclist[key]+'\\\\'+key, res_type='kaiser_fast',duration=2.5,sr=22050*2,offset=0.5)\n",
    "    sample_rate = np.array(sample_rate)\n",
    "    mfccs = np.mean(librosa.feature.mfcc(y=X,sr=sample_rate,n_mfcc=13),\n",
    "                        axis=0)\n",
    "    feature = mfccs\n",
    "    #[float(i) for i in feature]\n",
    "    df.loc[bookmark] = [feature]\n",
    "    bookmark=bookmark+1    "
   ]
  },
  {
   "cell_type": "code",
   "execution_count": 9,
   "metadata": {},
   "outputs": [],
   "source": [
    "#df = pd.DataFrame(columns=['feature'])\n",
    "#bookmark=0\n",
    "#for index,y in enumerate(mylist):\n",
    "#    if mylist[index][6:-16]!='01' and mylist[index][6:-16]!='07' and mylist[index][6:-16]!='08' and mylist[index][:2]!='su' and mylist[index][:1]!='n' and mylist[index][:1]!='d':\n",
    "#        X, sample_rate = librosa.load(path+y, res_type='kaiser_fast',duration=2.5,sr=22050*2,offset=0.5)\n",
    "#        sample_rate = np.array(sample_rate)\n",
    "#        mfccs = np.mean(librosa.feature.mfcc(y=X, \n",
    "#                                            sr=sample_rate, \n",
    "#                                            n_mfcc=13),\n",
    "#                        axis=0)\n",
    "#        feature = mfccs\n",
    "#        #[float(i) for i in feature]\n",
    "#        df.loc[bookmark] = [feature]\n",
    "#        bookmark=bookmark+1        "
   ]
  },
  {
   "cell_type": "code",
   "execution_count": 16,
   "metadata": {},
   "outputs": [],
   "source": [
    "df3 = pd.DataFrame(df['feature'].values.tolist())"
   ]
  },
  {
   "cell_type": "code",
   "execution_count": 17,
   "metadata": {},
   "outputs": [],
   "source": [
    "newdf = pd.concat([df3,labels], axis=1)"
   ]
  },
  {
   "cell_type": "code",
   "execution_count": 18,
   "metadata": {},
   "outputs": [],
   "source": [
    "rnewdf = newdf.rename(index=str, columns={\"0\": \"label\"})"
   ]
  },
  {
   "cell_type": "code",
   "execution_count": 19,
   "metadata": {},
   "outputs": [
    {
     "data": {
      "text/html": [
       "<div>\n",
       "<style scoped>\n",
       "    .dataframe tbody tr th:only-of-type {\n",
       "        vertical-align: middle;\n",
       "    }\n",
       "\n",
       "    .dataframe tbody tr th {\n",
       "        vertical-align: top;\n",
       "    }\n",
       "\n",
       "    .dataframe thead th {\n",
       "        text-align: right;\n",
       "    }\n",
       "</style>\n",
       "<table border=\"1\" class=\"dataframe\">\n",
       "  <thead>\n",
       "    <tr style=\"text-align: right;\">\n",
       "      <th></th>\n",
       "      <th>0</th>\n",
       "      <th>1</th>\n",
       "      <th>2</th>\n",
       "      <th>3</th>\n",
       "      <th>4</th>\n",
       "      <th>5</th>\n",
       "      <th>6</th>\n",
       "      <th>7</th>\n",
       "      <th>8</th>\n",
       "      <th>9</th>\n",
       "      <th>...</th>\n",
       "      <th>207</th>\n",
       "      <th>208</th>\n",
       "      <th>209</th>\n",
       "      <th>210</th>\n",
       "      <th>211</th>\n",
       "      <th>212</th>\n",
       "      <th>213</th>\n",
       "      <th>214</th>\n",
       "      <th>215</th>\n",
       "      <th>0</th>\n",
       "    </tr>\n",
       "  </thead>\n",
       "  <tbody>\n",
       "    <tr>\n",
       "      <th>556</th>\n",
       "      <td>-40.868244</td>\n",
       "      <td>-40.850235</td>\n",
       "      <td>-41.051182</td>\n",
       "      <td>-42.040676</td>\n",
       "      <td>-41.906624</td>\n",
       "      <td>-42.173893</td>\n",
       "      <td>-42.314030</td>\n",
       "      <td>-42.772923</td>\n",
       "      <td>-42.436810</td>\n",
       "      <td>-41.787357</td>\n",
       "      <td>...</td>\n",
       "      <td>-37.163662</td>\n",
       "      <td>-36.941036</td>\n",
       "      <td>-37.893730</td>\n",
       "      <td>-38.665417</td>\n",
       "      <td>-40.015690</td>\n",
       "      <td>-40.342216</td>\n",
       "      <td>-41.131241</td>\n",
       "      <td>-40.829308</td>\n",
       "      <td>-39.283112</td>\n",
       "      <td>Happy</td>\n",
       "    </tr>\n",
       "    <tr>\n",
       "      <th>1391</th>\n",
       "      <td>-69.113541</td>\n",
       "      <td>-69.209686</td>\n",
       "      <td>-69.547028</td>\n",
       "      <td>-70.108955</td>\n",
       "      <td>-69.749748</td>\n",
       "      <td>-69.453232</td>\n",
       "      <td>-69.459572</td>\n",
       "      <td>-69.053902</td>\n",
       "      <td>-69.248398</td>\n",
       "      <td>-69.290924</td>\n",
       "      <td>...</td>\n",
       "      <td>-39.795837</td>\n",
       "      <td>-39.722858</td>\n",
       "      <td>-39.037891</td>\n",
       "      <td>-38.003288</td>\n",
       "      <td>-38.770657</td>\n",
       "      <td>-39.062130</td>\n",
       "      <td>-40.646812</td>\n",
       "      <td>-35.852226</td>\n",
       "      <td>-29.901733</td>\n",
       "      <td>calm</td>\n",
       "    </tr>\n",
       "    <tr>\n",
       "      <th>276</th>\n",
       "      <td>-62.398441</td>\n",
       "      <td>-60.504990</td>\n",
       "      <td>-56.733547</td>\n",
       "      <td>-56.245003</td>\n",
       "      <td>-58.034214</td>\n",
       "      <td>-60.989967</td>\n",
       "      <td>-60.551018</td>\n",
       "      <td>-60.285442</td>\n",
       "      <td>-61.149773</td>\n",
       "      <td>-60.055134</td>\n",
       "      <td>...</td>\n",
       "      <td>-56.053749</td>\n",
       "      <td>-58.752724</td>\n",
       "      <td>-58.840515</td>\n",
       "      <td>-56.561905</td>\n",
       "      <td>-56.074787</td>\n",
       "      <td>-57.301594</td>\n",
       "      <td>-60.498665</td>\n",
       "      <td>-56.931389</td>\n",
       "      <td>-55.152542</td>\n",
       "      <td>fearful</td>\n",
       "    </tr>\n",
       "    <tr>\n",
       "      <th>316</th>\n",
       "      <td>-47.663139</td>\n",
       "      <td>-47.677933</td>\n",
       "      <td>-47.639645</td>\n",
       "      <td>-47.585575</td>\n",
       "      <td>-47.357380</td>\n",
       "      <td>-47.152390</td>\n",
       "      <td>-46.562134</td>\n",
       "      <td>-45.171509</td>\n",
       "      <td>-44.318325</td>\n",
       "      <td>-44.852592</td>\n",
       "      <td>...</td>\n",
       "      <td>-40.152534</td>\n",
       "      <td>-41.010311</td>\n",
       "      <td>-40.839897</td>\n",
       "      <td>-41.635464</td>\n",
       "      <td>-41.761421</td>\n",
       "      <td>-41.185459</td>\n",
       "      <td>-41.830139</td>\n",
       "      <td>-44.060730</td>\n",
       "      <td>-44.244770</td>\n",
       "      <td>Happy</td>\n",
       "    </tr>\n",
       "    <tr>\n",
       "      <th>434</th>\n",
       "      <td>-56.585148</td>\n",
       "      <td>-56.564571</td>\n",
       "      <td>-58.081631</td>\n",
       "      <td>-57.197670</td>\n",
       "      <td>-58.286541</td>\n",
       "      <td>-55.152973</td>\n",
       "      <td>-54.375668</td>\n",
       "      <td>-53.642071</td>\n",
       "      <td>-52.773014</td>\n",
       "      <td>-54.717468</td>\n",
       "      <td>...</td>\n",
       "      <td>-53.752441</td>\n",
       "      <td>-54.538799</td>\n",
       "      <td>-54.457088</td>\n",
       "      <td>-51.936623</td>\n",
       "      <td>-53.098225</td>\n",
       "      <td>-53.586063</td>\n",
       "      <td>-50.853802</td>\n",
       "      <td>-50.650845</td>\n",
       "      <td>-51.127117</td>\n",
       "      <td>Happy</td>\n",
       "    </tr>\n",
       "    <tr>\n",
       "      <th>672</th>\n",
       "      <td>-62.272724</td>\n",
       "      <td>-62.272724</td>\n",
       "      <td>-62.272724</td>\n",
       "      <td>-62.272724</td>\n",
       "      <td>-62.117855</td>\n",
       "      <td>-62.075588</td>\n",
       "      <td>-62.094063</td>\n",
       "      <td>-61.882729</td>\n",
       "      <td>-60.509590</td>\n",
       "      <td>-59.287128</td>\n",
       "      <td>...</td>\n",
       "      <td>-45.572819</td>\n",
       "      <td>-45.240074</td>\n",
       "      <td>-46.185425</td>\n",
       "      <td>-47.669369</td>\n",
       "      <td>-48.715408</td>\n",
       "      <td>-48.083855</td>\n",
       "      <td>-48.970730</td>\n",
       "      <td>-49.335423</td>\n",
       "      <td>-49.601597</td>\n",
       "      <td>Happy</td>\n",
       "    </tr>\n",
       "    <tr>\n",
       "      <th>461</th>\n",
       "      <td>-44.614815</td>\n",
       "      <td>-44.014492</td>\n",
       "      <td>-43.963921</td>\n",
       "      <td>-44.872704</td>\n",
       "      <td>-44.159843</td>\n",
       "      <td>-43.476006</td>\n",
       "      <td>-44.777184</td>\n",
       "      <td>-44.895039</td>\n",
       "      <td>-43.643867</td>\n",
       "      <td>-44.021202</td>\n",
       "      <td>...</td>\n",
       "      <td>-40.643650</td>\n",
       "      <td>-41.052246</td>\n",
       "      <td>-40.560001</td>\n",
       "      <td>-41.751423</td>\n",
       "      <td>-41.309448</td>\n",
       "      <td>-42.248558</td>\n",
       "      <td>-43.151108</td>\n",
       "      <td>-42.181381</td>\n",
       "      <td>-42.301792</td>\n",
       "      <td>fearful</td>\n",
       "    </tr>\n",
       "    <tr>\n",
       "      <th>176</th>\n",
       "      <td>-54.381008</td>\n",
       "      <td>-54.381008</td>\n",
       "      <td>-54.381008</td>\n",
       "      <td>-54.381008</td>\n",
       "      <td>-54.381008</td>\n",
       "      <td>-54.381008</td>\n",
       "      <td>-54.381008</td>\n",
       "      <td>-54.381008</td>\n",
       "      <td>-54.381008</td>\n",
       "      <td>-54.199749</td>\n",
       "      <td>...</td>\n",
       "      <td>-52.160133</td>\n",
       "      <td>-52.773781</td>\n",
       "      <td>-51.492672</td>\n",
       "      <td>-53.047791</td>\n",
       "      <td>-53.344337</td>\n",
       "      <td>-53.515053</td>\n",
       "      <td>-52.464432</td>\n",
       "      <td>-53.100693</td>\n",
       "      <td>-52.297337</td>\n",
       "      <td>surprised</td>\n",
       "    </tr>\n",
       "    <tr>\n",
       "      <th>455</th>\n",
       "      <td>-45.032219</td>\n",
       "      <td>-44.949280</td>\n",
       "      <td>-44.600506</td>\n",
       "      <td>-45.753418</td>\n",
       "      <td>-44.904739</td>\n",
       "      <td>-45.171684</td>\n",
       "      <td>-45.176498</td>\n",
       "      <td>-44.742897</td>\n",
       "      <td>-44.610954</td>\n",
       "      <td>-43.578369</td>\n",
       "      <td>...</td>\n",
       "      <td>-47.246952</td>\n",
       "      <td>-45.484615</td>\n",
       "      <td>-45.256912</td>\n",
       "      <td>-45.362705</td>\n",
       "      <td>-44.978279</td>\n",
       "      <td>-44.990330</td>\n",
       "      <td>-43.417442</td>\n",
       "      <td>-44.386292</td>\n",
       "      <td>-45.165951</td>\n",
       "      <td>angry</td>\n",
       "    </tr>\n",
       "    <tr>\n",
       "      <th>810</th>\n",
       "      <td>-54.900043</td>\n",
       "      <td>-54.900043</td>\n",
       "      <td>-54.900043</td>\n",
       "      <td>-54.900043</td>\n",
       "      <td>-54.900043</td>\n",
       "      <td>-54.900043</td>\n",
       "      <td>-54.900043</td>\n",
       "      <td>-54.900043</td>\n",
       "      <td>-54.900043</td>\n",
       "      <td>-54.900043</td>\n",
       "      <td>...</td>\n",
       "      <td>-54.900043</td>\n",
       "      <td>-54.900043</td>\n",
       "      <td>-54.900043</td>\n",
       "      <td>-54.900043</td>\n",
       "      <td>-54.900043</td>\n",
       "      <td>-54.900043</td>\n",
       "      <td>-54.900043</td>\n",
       "      <td>-54.585144</td>\n",
       "      <td>-54.452507</td>\n",
       "      <td>angry</td>\n",
       "    </tr>\n",
       "  </tbody>\n",
       "</table>\n",
       "<p>10 rows × 217 columns</p>\n",
       "</div>"
      ],
      "text/plain": [
       "            0          1          2          3          4          5    \\\n",
       "556  -40.868244 -40.850235 -41.051182 -42.040676 -41.906624 -42.173893   \n",
       "1391 -69.113541 -69.209686 -69.547028 -70.108955 -69.749748 -69.453232   \n",
       "276  -62.398441 -60.504990 -56.733547 -56.245003 -58.034214 -60.989967   \n",
       "316  -47.663139 -47.677933 -47.639645 -47.585575 -47.357380 -47.152390   \n",
       "434  -56.585148 -56.564571 -58.081631 -57.197670 -58.286541 -55.152973   \n",
       "672  -62.272724 -62.272724 -62.272724 -62.272724 -62.117855 -62.075588   \n",
       "461  -44.614815 -44.014492 -43.963921 -44.872704 -44.159843 -43.476006   \n",
       "176  -54.381008 -54.381008 -54.381008 -54.381008 -54.381008 -54.381008   \n",
       "455  -45.032219 -44.949280 -44.600506 -45.753418 -44.904739 -45.171684   \n",
       "810  -54.900043 -54.900043 -54.900043 -54.900043 -54.900043 -54.900043   \n",
       "\n",
       "            6          7          8          9    ...        207        208  \\\n",
       "556  -42.314030 -42.772923 -42.436810 -41.787357  ... -37.163662 -36.941036   \n",
       "1391 -69.459572 -69.053902 -69.248398 -69.290924  ... -39.795837 -39.722858   \n",
       "276  -60.551018 -60.285442 -61.149773 -60.055134  ... -56.053749 -58.752724   \n",
       "316  -46.562134 -45.171509 -44.318325 -44.852592  ... -40.152534 -41.010311   \n",
       "434  -54.375668 -53.642071 -52.773014 -54.717468  ... -53.752441 -54.538799   \n",
       "672  -62.094063 -61.882729 -60.509590 -59.287128  ... -45.572819 -45.240074   \n",
       "461  -44.777184 -44.895039 -43.643867 -44.021202  ... -40.643650 -41.052246   \n",
       "176  -54.381008 -54.381008 -54.381008 -54.199749  ... -52.160133 -52.773781   \n",
       "455  -45.176498 -44.742897 -44.610954 -43.578369  ... -47.246952 -45.484615   \n",
       "810  -54.900043 -54.900043 -54.900043 -54.900043  ... -54.900043 -54.900043   \n",
       "\n",
       "            209        210        211        212        213        214  \\\n",
       "556  -37.893730 -38.665417 -40.015690 -40.342216 -41.131241 -40.829308   \n",
       "1391 -39.037891 -38.003288 -38.770657 -39.062130 -40.646812 -35.852226   \n",
       "276  -58.840515 -56.561905 -56.074787 -57.301594 -60.498665 -56.931389   \n",
       "316  -40.839897 -41.635464 -41.761421 -41.185459 -41.830139 -44.060730   \n",
       "434  -54.457088 -51.936623 -53.098225 -53.586063 -50.853802 -50.650845   \n",
       "672  -46.185425 -47.669369 -48.715408 -48.083855 -48.970730 -49.335423   \n",
       "461  -40.560001 -41.751423 -41.309448 -42.248558 -43.151108 -42.181381   \n",
       "176  -51.492672 -53.047791 -53.344337 -53.515053 -52.464432 -53.100693   \n",
       "455  -45.256912 -45.362705 -44.978279 -44.990330 -43.417442 -44.386292   \n",
       "810  -54.900043 -54.900043 -54.900043 -54.900043 -54.900043 -54.585144   \n",
       "\n",
       "            215        0    \n",
       "556  -39.283112      Happy  \n",
       "1391 -29.901733       calm  \n",
       "276  -55.152542    fearful  \n",
       "316  -44.244770      Happy  \n",
       "434  -51.127117      Happy  \n",
       "672  -49.601597      Happy  \n",
       "461  -42.301792    fearful  \n",
       "176  -52.297337  surprised  \n",
       "455  -45.165951      angry  \n",
       "810  -54.452507      angry  \n",
       "\n",
       "[10 rows x 217 columns]"
      ]
     },
     "execution_count": 19,
     "metadata": {},
     "output_type": "execute_result"
    }
   ],
   "source": [
    "from sklearn.utils import shuffle\n",
    "rnewdf = shuffle(newdf)\n",
    "rnewdf[:10]"
   ]
  },
  {
   "cell_type": "code",
   "execution_count": 20,
   "metadata": {},
   "outputs": [],
   "source": [
    "rnewdf=rnewdf.fillna(0)"
   ]
  },
  {
   "cell_type": "markdown",
   "metadata": {},
   "source": [
    "## Dividing the data into test and train"
   ]
  },
  {
   "cell_type": "code",
   "execution_count": 21,
   "metadata": {},
   "outputs": [],
   "source": [
    "newdf1 = np.random.rand(len(rnewdf)) < 0.8\n",
    "train = rnewdf[newdf1]\n",
    "test = rnewdf[~newdf1]"
   ]
  },
  {
   "cell_type": "code",
   "execution_count": 22,
   "metadata": {},
   "outputs": [
    {
     "data": {
      "text/html": [
       "<div>\n",
       "<style scoped>\n",
       "    .dataframe tbody tr th:only-of-type {\n",
       "        vertical-align: middle;\n",
       "    }\n",
       "\n",
       "    .dataframe tbody tr th {\n",
       "        vertical-align: top;\n",
       "    }\n",
       "\n",
       "    .dataframe thead th {\n",
       "        text-align: right;\n",
       "    }\n",
       "</style>\n",
       "<table border=\"1\" class=\"dataframe\">\n",
       "  <thead>\n",
       "    <tr style=\"text-align: right;\">\n",
       "      <th></th>\n",
       "      <th>0</th>\n",
       "      <th>1</th>\n",
       "      <th>2</th>\n",
       "      <th>3</th>\n",
       "      <th>4</th>\n",
       "      <th>5</th>\n",
       "      <th>6</th>\n",
       "      <th>7</th>\n",
       "      <th>8</th>\n",
       "      <th>9</th>\n",
       "      <th>...</th>\n",
       "      <th>207</th>\n",
       "      <th>208</th>\n",
       "      <th>209</th>\n",
       "      <th>210</th>\n",
       "      <th>211</th>\n",
       "      <th>212</th>\n",
       "      <th>213</th>\n",
       "      <th>214</th>\n",
       "      <th>215</th>\n",
       "      <th>0</th>\n",
       "    </tr>\n",
       "  </thead>\n",
       "  <tbody>\n",
       "    <tr>\n",
       "      <th>1377</th>\n",
       "      <td>-52.031616</td>\n",
       "      <td>-52.031616</td>\n",
       "      <td>-52.031616</td>\n",
       "      <td>-52.031616</td>\n",
       "      <td>-51.992802</td>\n",
       "      <td>-51.845150</td>\n",
       "      <td>-51.916653</td>\n",
       "      <td>-52.010750</td>\n",
       "      <td>-52.031616</td>\n",
       "      <td>-52.031616</td>\n",
       "      <td>...</td>\n",
       "      <td>-51.840816</td>\n",
       "      <td>-52.031616</td>\n",
       "      <td>-52.031616</td>\n",
       "      <td>-52.031616</td>\n",
       "      <td>-52.031616</td>\n",
       "      <td>-52.031616</td>\n",
       "      <td>-52.031616</td>\n",
       "      <td>-52.031616</td>\n",
       "      <td>-52.031616</td>\n",
       "      <td>surprised</td>\n",
       "    </tr>\n",
       "    <tr>\n",
       "      <th>811</th>\n",
       "      <td>-55.560707</td>\n",
       "      <td>-55.560707</td>\n",
       "      <td>-55.560707</td>\n",
       "      <td>-55.560604</td>\n",
       "      <td>-55.560707</td>\n",
       "      <td>-55.560707</td>\n",
       "      <td>-55.560707</td>\n",
       "      <td>-55.560707</td>\n",
       "      <td>-55.560707</td>\n",
       "      <td>-55.560707</td>\n",
       "      <td>...</td>\n",
       "      <td>-42.873928</td>\n",
       "      <td>-43.580772</td>\n",
       "      <td>-45.323105</td>\n",
       "      <td>-46.200279</td>\n",
       "      <td>-47.405785</td>\n",
       "      <td>-49.732071</td>\n",
       "      <td>-53.589596</td>\n",
       "      <td>-54.522129</td>\n",
       "      <td>-54.791355</td>\n",
       "      <td>angry</td>\n",
       "    </tr>\n",
       "    <tr>\n",
       "      <th>718</th>\n",
       "      <td>-54.555088</td>\n",
       "      <td>-53.312748</td>\n",
       "      <td>-52.499714</td>\n",
       "      <td>-52.153812</td>\n",
       "      <td>-53.225159</td>\n",
       "      <td>-54.862038</td>\n",
       "      <td>-53.853035</td>\n",
       "      <td>-52.124130</td>\n",
       "      <td>-50.751213</td>\n",
       "      <td>-50.744629</td>\n",
       "      <td>...</td>\n",
       "      <td>-45.272015</td>\n",
       "      <td>-44.666607</td>\n",
       "      <td>-47.122864</td>\n",
       "      <td>-48.008343</td>\n",
       "      <td>-49.369385</td>\n",
       "      <td>-50.246319</td>\n",
       "      <td>-48.689087</td>\n",
       "      <td>-49.357666</td>\n",
       "      <td>-51.274532</td>\n",
       "      <td>surprised</td>\n",
       "    </tr>\n",
       "    <tr>\n",
       "      <th>1241</th>\n",
       "      <td>-52.758724</td>\n",
       "      <td>-52.758724</td>\n",
       "      <td>-51.898464</td>\n",
       "      <td>-49.913265</td>\n",
       "      <td>-49.358860</td>\n",
       "      <td>-49.977512</td>\n",
       "      <td>-50.269756</td>\n",
       "      <td>-49.357018</td>\n",
       "      <td>-50.710350</td>\n",
       "      <td>-52.070847</td>\n",
       "      <td>...</td>\n",
       "      <td>-31.759768</td>\n",
       "      <td>-29.112810</td>\n",
       "      <td>-30.303551</td>\n",
       "      <td>-34.929649</td>\n",
       "      <td>-35.643738</td>\n",
       "      <td>-36.025158</td>\n",
       "      <td>-38.403267</td>\n",
       "      <td>-43.493160</td>\n",
       "      <td>-42.363194</td>\n",
       "      <td>fearful</td>\n",
       "    </tr>\n",
       "    <tr>\n",
       "      <th>447</th>\n",
       "      <td>-47.722557</td>\n",
       "      <td>-48.952560</td>\n",
       "      <td>-49.958557</td>\n",
       "      <td>-49.989277</td>\n",
       "      <td>-48.196934</td>\n",
       "      <td>-48.491875</td>\n",
       "      <td>-50.243282</td>\n",
       "      <td>-48.019173</td>\n",
       "      <td>-46.166927</td>\n",
       "      <td>-48.974724</td>\n",
       "      <td>...</td>\n",
       "      <td>-47.571426</td>\n",
       "      <td>-47.346169</td>\n",
       "      <td>-47.848518</td>\n",
       "      <td>-49.430832</td>\n",
       "      <td>-50.582539</td>\n",
       "      <td>-49.161339</td>\n",
       "      <td>-49.113132</td>\n",
       "      <td>-50.099800</td>\n",
       "      <td>-47.463356</td>\n",
       "      <td>sad</td>\n",
       "    </tr>\n",
       "    <tr>\n",
       "      <th>1131</th>\n",
       "      <td>-48.999531</td>\n",
       "      <td>-48.506783</td>\n",
       "      <td>-48.756821</td>\n",
       "      <td>-50.473869</td>\n",
       "      <td>-51.650383</td>\n",
       "      <td>-50.362892</td>\n",
       "      <td>-48.454281</td>\n",
       "      <td>-50.036034</td>\n",
       "      <td>-51.698441</td>\n",
       "      <td>-52.403137</td>\n",
       "      <td>...</td>\n",
       "      <td>-37.844307</td>\n",
       "      <td>-39.273209</td>\n",
       "      <td>-39.462620</td>\n",
       "      <td>-40.825439</td>\n",
       "      <td>-35.862583</td>\n",
       "      <td>-30.979042</td>\n",
       "      <td>-27.991926</td>\n",
       "      <td>-27.480709</td>\n",
       "      <td>-24.292814</td>\n",
       "      <td>disgust</td>\n",
       "    </tr>\n",
       "    <tr>\n",
       "      <th>334</th>\n",
       "      <td>-42.465012</td>\n",
       "      <td>-42.583298</td>\n",
       "      <td>-43.101849</td>\n",
       "      <td>-43.019978</td>\n",
       "      <td>-42.306850</td>\n",
       "      <td>-41.415932</td>\n",
       "      <td>-40.329880</td>\n",
       "      <td>-40.658188</td>\n",
       "      <td>-41.503643</td>\n",
       "      <td>-42.401058</td>\n",
       "      <td>...</td>\n",
       "      <td>-29.760683</td>\n",
       "      <td>-26.804274</td>\n",
       "      <td>-24.726421</td>\n",
       "      <td>-25.497475</td>\n",
       "      <td>-27.301413</td>\n",
       "      <td>-27.844868</td>\n",
       "      <td>-30.855257</td>\n",
       "      <td>-20.573429</td>\n",
       "      <td>-11.128963</td>\n",
       "      <td>angry</td>\n",
       "    </tr>\n",
       "    <tr>\n",
       "      <th>844</th>\n",
       "      <td>-64.247620</td>\n",
       "      <td>-64.373116</td>\n",
       "      <td>-63.817059</td>\n",
       "      <td>-60.828506</td>\n",
       "      <td>-58.402481</td>\n",
       "      <td>-51.610939</td>\n",
       "      <td>-51.796608</td>\n",
       "      <td>-52.992569</td>\n",
       "      <td>-54.142094</td>\n",
       "      <td>-52.943970</td>\n",
       "      <td>...</td>\n",
       "      <td>-47.849430</td>\n",
       "      <td>-48.964546</td>\n",
       "      <td>-48.379604</td>\n",
       "      <td>-47.041023</td>\n",
       "      <td>-46.480042</td>\n",
       "      <td>-46.190392</td>\n",
       "      <td>-46.501640</td>\n",
       "      <td>-46.433926</td>\n",
       "      <td>-47.593559</td>\n",
       "      <td>calm</td>\n",
       "    </tr>\n",
       "    <tr>\n",
       "      <th>1358</th>\n",
       "      <td>-59.178349</td>\n",
       "      <td>-59.178349</td>\n",
       "      <td>-59.178349</td>\n",
       "      <td>-59.164715</td>\n",
       "      <td>-58.260948</td>\n",
       "      <td>-57.035988</td>\n",
       "      <td>-57.798237</td>\n",
       "      <td>-58.676754</td>\n",
       "      <td>-59.178349</td>\n",
       "      <td>-59.178349</td>\n",
       "      <td>...</td>\n",
       "      <td>-59.178349</td>\n",
       "      <td>-59.178349</td>\n",
       "      <td>-59.178349</td>\n",
       "      <td>-59.178349</td>\n",
       "      <td>-59.178349</td>\n",
       "      <td>-59.178349</td>\n",
       "      <td>-59.178349</td>\n",
       "      <td>-59.178349</td>\n",
       "      <td>-59.178349</td>\n",
       "      <td>fearful</td>\n",
       "    </tr>\n",
       "    <tr>\n",
       "      <th>398</th>\n",
       "      <td>-58.545326</td>\n",
       "      <td>-59.202477</td>\n",
       "      <td>-60.137028</td>\n",
       "      <td>-62.037025</td>\n",
       "      <td>-62.147953</td>\n",
       "      <td>-61.235847</td>\n",
       "      <td>-61.505291</td>\n",
       "      <td>-61.574955</td>\n",
       "      <td>-61.505375</td>\n",
       "      <td>-60.495136</td>\n",
       "      <td>...</td>\n",
       "      <td>-62.534832</td>\n",
       "      <td>-63.489986</td>\n",
       "      <td>-63.011314</td>\n",
       "      <td>-60.754578</td>\n",
       "      <td>-60.942257</td>\n",
       "      <td>-61.236050</td>\n",
       "      <td>-61.601963</td>\n",
       "      <td>-60.400120</td>\n",
       "      <td>-60.975517</td>\n",
       "      <td>fearful</td>\n",
       "    </tr>\n",
       "  </tbody>\n",
       "</table>\n",
       "<p>10 rows × 217 columns</p>\n",
       "</div>"
      ],
      "text/plain": [
       "            0          1          2          3          4          5    \\\n",
       "1377 -52.031616 -52.031616 -52.031616 -52.031616 -51.992802 -51.845150   \n",
       "811  -55.560707 -55.560707 -55.560707 -55.560604 -55.560707 -55.560707   \n",
       "718  -54.555088 -53.312748 -52.499714 -52.153812 -53.225159 -54.862038   \n",
       "1241 -52.758724 -52.758724 -51.898464 -49.913265 -49.358860 -49.977512   \n",
       "447  -47.722557 -48.952560 -49.958557 -49.989277 -48.196934 -48.491875   \n",
       "1131 -48.999531 -48.506783 -48.756821 -50.473869 -51.650383 -50.362892   \n",
       "334  -42.465012 -42.583298 -43.101849 -43.019978 -42.306850 -41.415932   \n",
       "844  -64.247620 -64.373116 -63.817059 -60.828506 -58.402481 -51.610939   \n",
       "1358 -59.178349 -59.178349 -59.178349 -59.164715 -58.260948 -57.035988   \n",
       "398  -58.545326 -59.202477 -60.137028 -62.037025 -62.147953 -61.235847   \n",
       "\n",
       "            6          7          8          9    ...        207        208  \\\n",
       "1377 -51.916653 -52.010750 -52.031616 -52.031616  ... -51.840816 -52.031616   \n",
       "811  -55.560707 -55.560707 -55.560707 -55.560707  ... -42.873928 -43.580772   \n",
       "718  -53.853035 -52.124130 -50.751213 -50.744629  ... -45.272015 -44.666607   \n",
       "1241 -50.269756 -49.357018 -50.710350 -52.070847  ... -31.759768 -29.112810   \n",
       "447  -50.243282 -48.019173 -46.166927 -48.974724  ... -47.571426 -47.346169   \n",
       "1131 -48.454281 -50.036034 -51.698441 -52.403137  ... -37.844307 -39.273209   \n",
       "334  -40.329880 -40.658188 -41.503643 -42.401058  ... -29.760683 -26.804274   \n",
       "844  -51.796608 -52.992569 -54.142094 -52.943970  ... -47.849430 -48.964546   \n",
       "1358 -57.798237 -58.676754 -59.178349 -59.178349  ... -59.178349 -59.178349   \n",
       "398  -61.505291 -61.574955 -61.505375 -60.495136  ... -62.534832 -63.489986   \n",
       "\n",
       "            209        210        211        212        213        214  \\\n",
       "1377 -52.031616 -52.031616 -52.031616 -52.031616 -52.031616 -52.031616   \n",
       "811  -45.323105 -46.200279 -47.405785 -49.732071 -53.589596 -54.522129   \n",
       "718  -47.122864 -48.008343 -49.369385 -50.246319 -48.689087 -49.357666   \n",
       "1241 -30.303551 -34.929649 -35.643738 -36.025158 -38.403267 -43.493160   \n",
       "447  -47.848518 -49.430832 -50.582539 -49.161339 -49.113132 -50.099800   \n",
       "1131 -39.462620 -40.825439 -35.862583 -30.979042 -27.991926 -27.480709   \n",
       "334  -24.726421 -25.497475 -27.301413 -27.844868 -30.855257 -20.573429   \n",
       "844  -48.379604 -47.041023 -46.480042 -46.190392 -46.501640 -46.433926   \n",
       "1358 -59.178349 -59.178349 -59.178349 -59.178349 -59.178349 -59.178349   \n",
       "398  -63.011314 -60.754578 -60.942257 -61.236050 -61.601963 -60.400120   \n",
       "\n",
       "            215        0    \n",
       "1377 -52.031616  surprised  \n",
       "811  -54.791355      angry  \n",
       "718  -51.274532  surprised  \n",
       "1241 -42.363194    fearful  \n",
       "447  -47.463356        sad  \n",
       "1131 -24.292814    disgust  \n",
       "334  -11.128963      angry  \n",
       "844  -47.593559       calm  \n",
       "1358 -59.178349    fearful  \n",
       "398  -60.975517    fearful  \n",
       "\n",
       "[10 rows x 217 columns]"
      ]
     },
     "execution_count": 22,
     "metadata": {},
     "output_type": "execute_result"
    }
   ],
   "source": [
    "train[10:20]"
   ]
  },
  {
   "cell_type": "code",
   "execution_count": 23,
   "metadata": {},
   "outputs": [],
   "source": [
    "trainfeatures = train.iloc[:, :-1]"
   ]
  },
  {
   "cell_type": "code",
   "execution_count": 24,
   "metadata": {},
   "outputs": [
    {
     "name": "stdout",
     "output_type": "stream",
     "text": [
      "(1152, 1)\n"
     ]
    }
   ],
   "source": [
    "trainlabel = train.iloc[:, -1:]\n",
    "print(shape(trainlabel))"
   ]
  },
  {
   "cell_type": "code",
   "execution_count": 25,
   "metadata": {},
   "outputs": [],
   "source": [
    "testfeatures = test.iloc[:, :-1]"
   ]
  },
  {
   "cell_type": "code",
   "execution_count": 26,
   "metadata": {},
   "outputs": [],
   "source": [
    "testlabel = test.iloc[:, -1:]"
   ]
  },
  {
   "cell_type": "code",
   "execution_count": 27,
   "metadata": {},
   "outputs": [
    {
     "name": "stdout",
     "output_type": "stream",
     "text": [
      "[['Happy']\n",
      " ['calm']\n",
      " ['fearful']\n",
      " ...\n",
      " ['calm']\n",
      " ['angry']\n",
      " ['angry']]\n"
     ]
    },
    {
     "name": "stderr",
     "output_type": "stream",
     "text": [
      "C:\\Users\\20194998\\Anaconda3\\lib\\site-packages\\sklearn\\utils\\validation.py:73: DataConversionWarning: A column-vector y was passed when a 1d array was expected. Please change the shape of y to (n_samples, ), for example using ravel().\n",
      "  return f(**kwargs)\n"
     ]
    }
   ],
   "source": [
    "from keras.utils import np_utils\n",
    "from sklearn.preprocessing import LabelEncoder\n",
    "\n",
    "X_train = np.array(trainfeatures)\n",
    "y_train = np.array(trainlabel)\n",
    "X_test = np.array(testfeatures)\n",
    "y_test = np.array(testlabel)\n",
    "print(y_train)\n",
    "lb = LabelEncoder()\n",
    "\n",
    "nb_classes = 8 \n",
    "encoder = LabelEncoder()\n",
    "\n",
    "y_train = np_utils.to_categorical(lb.fit_transform(y_train), nb_classes)\n",
    "y_test = np_utils.to_categorical(lb.fit_transform(y_test), nb_classes)\n",
    "\n",
    "numpy.save('encoder.npy', lb.classes_)"
   ]
  },
  {
   "cell_type": "code",
   "execution_count": 28,
   "metadata": {},
   "outputs": [
    {
     "data": {
      "text/plain": [
       "array([[1., 0., 0., ..., 0., 0., 0.],\n",
       "       [0., 0., 1., ..., 0., 0., 0.],\n",
       "       [0., 0., 0., ..., 0., 0., 0.],\n",
       "       ...,\n",
       "       [0., 0., 1., ..., 0., 0., 0.],\n",
       "       [0., 1., 0., ..., 0., 0., 0.],\n",
       "       [0., 1., 0., ..., 0., 0., 0.]], dtype=float32)"
      ]
     },
     "execution_count": 28,
     "metadata": {},
     "output_type": "execute_result"
    }
   ],
   "source": [
    "y_train"
   ]
  },
  {
   "cell_type": "code",
   "execution_count": 29,
   "metadata": {},
   "outputs": [
    {
     "data": {
      "text/plain": [
       "array([[1., 0., 0., ..., 0., 0., 0.],\n",
       "       [0., 1., 0., ..., 0., 0., 0.],\n",
       "       [0., 1., 0., ..., 0., 0., 0.],\n",
       "       ...,\n",
       "       [0., 0., 0., ..., 0., 0., 0.],\n",
       "       [0., 1., 0., ..., 0., 0., 0.],\n",
       "       [1., 0., 0., ..., 0., 0., 0.]], dtype=float32)"
      ]
     },
     "execution_count": 29,
     "metadata": {},
     "output_type": "execute_result"
    }
   ],
   "source": [
    "y_test"
   ]
  },
  {
   "cell_type": "code",
   "execution_count": 30,
   "metadata": {},
   "outputs": [
    {
     "data": {
      "text/plain": [
       "(1152, 216)"
      ]
     },
     "execution_count": 30,
     "metadata": {},
     "output_type": "execute_result"
    }
   ],
   "source": [
    "X_train.shape"
   ]
  },
  {
   "cell_type": "markdown",
   "metadata": {},
   "source": [
    "## Changing dimension for CNN model"
   ]
  },
  {
   "cell_type": "code",
   "execution_count": 31,
   "metadata": {},
   "outputs": [],
   "source": [
    "x_traincnn =np.expand_dims(X_train, axis=2)\n",
    "x_testcnn= np.expand_dims(X_test, axis=2)"
   ]
  },
  {
   "cell_type": "code",
   "execution_count": 32,
   "metadata": {},
   "outputs": [],
   "source": [
    "model = Sequential()\n",
    "#filters, kernel_size, strides=1, padding='valid', data_format='channels_last',\n",
    "\n",
    "model.add(Conv1D(256, 5,padding='same', input_shape=(216,1)))\n",
    "model.add(Activation('relu'))\n",
    "model.add(Conv1D(128, 5,padding='same'))\n",
    "model.add(Activation('relu'))\n",
    "model.add(Dropout(0.1))\n",
    "model.add(MaxPooling1D(pool_size=(8)))\n",
    "model.add(Conv1D(128, 5,padding='same',))\n",
    "model.add(Activation('relu'))\n",
    "model.add(Conv1D(128, 5,padding='same',))\n",
    "model.add(Activation('relu'))\n",
    "model.add(Flatten())\n",
    "model.add(Dense(8))\n",
    "model.add(Activation('softmax')) #softmax as we are doing multiclass classification\n",
    "opt = keras.optimizers.Adam(learning_rate=0.0001)"
   ]
  },
  {
   "cell_type": "code",
   "execution_count": 33,
   "metadata": {},
   "outputs": [
    {
     "name": "stdout",
     "output_type": "stream",
     "text": [
      "Model: \"sequential\"\n",
      "_________________________________________________________________\n",
      "Layer (type)                 Output Shape              Param #   \n",
      "=================================================================\n",
      "conv1d (Conv1D)              (None, 216, 256)          1536      \n",
      "_________________________________________________________________\n",
      "activation (Activation)      (None, 216, 256)          0         \n",
      "_________________________________________________________________\n",
      "conv1d_1 (Conv1D)            (None, 216, 128)          163968    \n",
      "_________________________________________________________________\n",
      "activation_1 (Activation)    (None, 216, 128)          0         \n",
      "_________________________________________________________________\n",
      "dropout (Dropout)            (None, 216, 128)          0         \n",
      "_________________________________________________________________\n",
      "max_pooling1d (MaxPooling1D) (None, 27, 128)           0         \n",
      "_________________________________________________________________\n",
      "conv1d_2 (Conv1D)            (None, 27, 128)           82048     \n",
      "_________________________________________________________________\n",
      "activation_2 (Activation)    (None, 27, 128)           0         \n",
      "_________________________________________________________________\n",
      "conv1d_3 (Conv1D)            (None, 27, 128)           82048     \n",
      "_________________________________________________________________\n",
      "activation_3 (Activation)    (None, 27, 128)           0         \n",
      "_________________________________________________________________\n",
      "flatten (Flatten)            (None, 3456)              0         \n",
      "_________________________________________________________________\n",
      "dense (Dense)                (None, 8)                 27656     \n",
      "_________________________________________________________________\n",
      "activation_4 (Activation)    (None, 8)                 0         \n",
      "=================================================================\n",
      "Total params: 357,256\n",
      "Trainable params: 357,256\n",
      "Non-trainable params: 0\n",
      "_________________________________________________________________\n"
     ]
    }
   ],
   "source": [
    "model.summary()"
   ]
  },
  {
   "cell_type": "code",
   "execution_count": 34,
   "metadata": {},
   "outputs": [],
   "source": [
    "model.compile(loss=\n",
    "             'categorical_crossentropy', \n",
    "              optimizer=opt, \n",
    "              metrics=['accuracy'])\n",
    "#tf.keras.losses.SparseCategoricalCrossentropy()\n",
    "#'categorical_crossentropy'"
   ]
  },
  {
   "cell_type": "code",
   "execution_count": 35,
   "metadata": {},
   "outputs": [],
   "source": [
    "#es = EarlyStopping(monitor='loss', mode='min')\n",
    "#cnnhistory=model.fit(x_traincnn, y_train, batch_size=16, epochs=200, validation_data=(x_testcnn, y_test), callbacks=[es])"
   ]
  },
  {
   "cell_type": "code",
   "execution_count": 37,
   "metadata": {},
   "outputs": [
    {
     "name": "stdout",
     "output_type": "stream",
     "text": [
      "Epoch 1/5\n",
      "72/72 [==============================] - 3s 45ms/step - loss: 1.9646 - accuracy: 0.2352 - val_loss: 1.9638 - val_accuracy: 0.2569\n",
      "Epoch 2/5\n",
      "72/72 [==============================] - 3s 45ms/step - loss: 1.9092 - accuracy: 0.2812 - val_loss: 1.9572 - val_accuracy: 0.2292\n",
      "Epoch 3/5\n",
      "72/72 [==============================] - 3s 45ms/step - loss: 1.8657 - accuracy: 0.3047 - val_loss: 1.9151 - val_accuracy: 0.2674\n",
      "Epoch 4/5\n",
      "72/72 [==============================] - 3s 46ms/step - loss: 1.8111 - accuracy: 0.3047 - val_loss: 1.8883 - val_accuracy: 0.2639\n",
      "Epoch 5/5\n",
      "72/72 [==============================] - 3s 44ms/step - loss: 1.7906 - accuracy: 0.3038 - val_loss: 1.8483 - val_accuracy: 0.2569\n"
     ]
    }
   ],
   "source": [
    "cnnhistory=model.fit(x_traincnn, y_train, batch_size=16, epochs=5, validation_data=(x_testcnn, y_test))"
   ]
  },
  {
   "cell_type": "code",
   "execution_count": 38,
   "metadata": {},
   "outputs": [
    {
     "data": {
      "image/png": "[encoded data removed]",
      "text/plain": [
       "<Figure size 432x288 with 1 Axes>"
      ]
     },
     "metadata": {
      "needs_background": "light"
     },
     "output_type": "display_data"
    }
   ],
   "source": [
    "plt.plot(cnnhistory.history['loss'])\n",
    "plt.plot(cnnhistory.history['val_loss'])\n",
    "plt.title('model loss')\n",
    "plt.ylabel('loss')\n",
    "plt.xlabel('epoch')\n",
    "plt.legend(['train', 'test'], loc='upper left')\n",
    "plt.show()"
   ]
  },
  {
   "cell_type": "markdown",
   "metadata": {},
   "source": [
    "## Saving the model"
   ]
  },
  {
   "cell_type": "code",
   "execution_count": 39,
   "metadata": {},
   "outputs": [
    {
     "name": "stdout",
     "output_type": "stream",
     "text": [
      "Saved trained model at D:\\Projects\\ESA\\audio-sentiment-analysis\\prototypes\\saved_models\\Emotion_Voice_Detection_Model.h5 \n"
     ]
    }
   ],
   "source": [
    "model_name = 'Emotion_Voice_Detection_Model.h5'\n",
    "save_dir = os.path.join(os.getcwd(), 'saved_models')\n",
    "# Save model and weights\n",
    "if not os.path.isdir(save_dir):\n",
    "    os.makedirs(save_dir)\n",
    "model_path = os.path.join(save_dir, model_name)\n",
    "model.save(model_path)\n",
    "print('Saved trained model at %s ' % model_path)"
   ]
  },
  {
   "cell_type": "code",
   "execution_count": 40,
   "metadata": {},
   "outputs": [],
   "source": [
    "import json\n",
    "model_json = model.to_json()\n",
    "with open(\"model.json\", \"w\") as json_file:\n",
    "    json_file.write(model_json)"
   ]
  },
  {
   "cell_type": "markdown",
   "metadata": {},
   "source": [
    "## Loading the model"
   ]
  },
  {
   "cell_type": "code",
   "execution_count": 41,
   "metadata": {},
   "outputs": [
    {
     "name": "stdout",
     "output_type": "stream",
     "text": [
      "Loaded model from disk\n",
      "accuracy: 25.69%\n"
     ]
    }
   ],
   "source": [
    "# loading json and creating model\n",
    "from keras.models import model_from_json\n",
    "json_file = open('model.json', 'r')\n",
    "loaded_model_json = json_file.read()\n",
    "json_file.close()\n",
    "loaded_model = model_from_json(loaded_model_json)\n",
    "# load weights into new model\n",
    "loaded_model.load_weights(\"saved_models/Emotion_Voice_Detection_Model.h5\")\n",
    "print(\"Loaded model from disk\")\n",
    " \n",
    "# evaluate loaded model on test data\n",
    "loaded_model.compile(loss='categorical_crossentropy', optimizer=opt, metrics=['accuracy'])\n",
    "score = loaded_model.evaluate(x_testcnn, y_test, verbose=0)\n",
    "print(\"%s: %.2f%%\" % (loaded_model.metrics_names[1], score[1]*100))"
   ]
  },
  {
   "cell_type": "markdown",
   "metadata": {},
   "source": [
    "## Predicting emotions on the test data"
   ]
  },
  {
   "cell_type": "code",
   "execution_count": 42,
   "metadata": {},
   "outputs": [
    {
     "name": "stdout",
     "output_type": "stream",
     "text": [
      "9/9 [==============================] - 0s 17ms/step\n"
     ]
    }
   ],
   "source": [
    "preds = loaded_model.predict(x_testcnn, \n",
    "                         batch_size=32, \n",
    "                         verbose=1)"
   ]
  },
  {
   "cell_type": "code",
   "execution_count": 43,
   "metadata": {},
   "outputs": [
    {
     "data": {
      "text/plain": [
       "array([[0.16879869, 0.02109269, 0.183692  , ..., 0.10259657, 0.22244832,\n",
       "        0.09629356],\n",
       "       [0.23596318, 0.10923008, 0.0417158 , ..., 0.03229681, 0.06905668,\n",
       "        0.26862612],\n",
       "       [0.10233006, 0.61442405, 0.06422991, ..., 0.01306609, 0.02684782,\n",
       "        0.05012532],\n",
       "       ...,\n",
       "       [0.22926757, 0.07640006, 0.06560344, ..., 0.02389086, 0.18495321,\n",
       "        0.16268146],\n",
       "       [0.1790455 , 0.37358436, 0.04318428, ..., 0.03698333, 0.04661356,\n",
       "        0.16054548],\n",
       "       [0.24608195, 0.08227899, 0.10976911, ..., 0.05919385, 0.18360728,\n",
       "        0.14945805]], dtype=float32)"
      ]
     },
     "execution_count": 43,
     "metadata": {},
     "output_type": "execute_result"
    }
   ],
   "source": [
    "preds"
   ]
  },
  {
   "cell_type": "code",
   "execution_count": 44,
   "metadata": {},
   "outputs": [],
   "source": [
    "preds1=preds.argmax(axis=1)"
   ]
  },
  {
   "cell_type": "code",
   "execution_count": 45,
   "metadata": {},
   "outputs": [
    {
     "data": {
      "text/plain": [
       "array([6, 7, 1, 6, 0, 7, 1, 2, 1, 0, 2, 3, 0, 7, 0, 7, 3, 3, 2, 2, 1, 3,\n",
       "       7, 7, 0, 2, 7, 2, 3, 6, 7, 2, 6, 2, 6, 7, 0, 0, 6, 1, 7, 0, 0, 3,\n",
       "       6, 6, 3, 2, 1, 1, 6, 2, 7, 3, 0, 7, 3, 0, 0, 2, 7, 2, 0, 3, 6, 2,\n",
       "       3, 3, 0, 0, 7, 0, 7, 6, 2, 1, 0, 0, 3, 0, 6, 1, 7, 2, 2, 0, 0, 2,\n",
       "       7, 7, 6, 0, 7, 0, 7, 7, 1, 2, 2, 0, 6, 0, 2, 3, 2, 3, 7, 0, 0, 2,\n",
       "       7, 0, 2, 2, 0, 6, 6, 2, 0, 0, 6, 0, 3, 0, 0, 1, 0, 1, 2, 1, 0, 2,\n",
       "       2, 2, 7, 2, 6, 0, 0, 3, 2, 0, 3, 0, 6, 0, 7, 0, 1, 2, 0, 3, 6, 0,\n",
       "       3, 2, 2, 0, 2, 7, 0, 2, 2, 7, 2, 0, 0, 7, 0, 2, 2, 0, 3, 0, 1, 7,\n",
       "       7, 7, 3, 7, 0, 2, 3, 2, 0, 7, 1, 0, 2, 2, 0, 0, 0, 2, 3, 6, 6, 7,\n",
       "       2, 0, 6, 2, 0, 3, 2, 7, 0, 0, 2, 2, 0, 3, 0, 3, 7, 1, 0, 6, 0, 0,\n",
       "       0, 2, 0, 0, 0, 7, 2, 0, 0, 0, 6, 2, 0, 2, 0, 0, 0, 3, 7, 0, 7, 0,\n",
       "       6, 6, 0, 7, 0, 0, 2, 3, 1, 0, 6, 0, 2, 2, 2, 0, 0, 0, 6, 7, 6, 3,\n",
       "       0, 0, 2, 7, 3, 3, 1, 0, 0, 7, 0, 2, 0, 0, 6, 3, 7, 7, 3, 2, 7, 0,\n",
       "       1, 0], dtype=int64)"
      ]
     },
     "execution_count": 45,
     "metadata": {},
     "output_type": "execute_result"
    }
   ],
   "source": [
    "preds1"
   ]
  },
  {
   "cell_type": "code",
   "execution_count": 46,
   "metadata": {},
   "outputs": [],
   "source": [
    "abc = preds1.astype(int).flatten()"
   ]
  },
  {
   "cell_type": "code",
   "execution_count": 47,
   "metadata": {},
   "outputs": [],
   "source": [
    "predictions = (lb.inverse_transform((abc)))"
   ]
  },
  {
   "cell_type": "code",
   "execution_count": 48,
   "metadata": {},
   "outputs": [
    {
     "data": {
      "text/html": [
       "<div>\n",
       "<style scoped>\n",
       "    .dataframe tbody tr th:only-of-type {\n",
       "        vertical-align: middle;\n",
       "    }\n",
       "\n",
       "    .dataframe tbody tr th {\n",
       "        vertical-align: top;\n",
       "    }\n",
       "\n",
       "    .dataframe thead th {\n",
       "        text-align: right;\n",
       "    }\n",
       "</style>\n",
       "<table border=\"1\" class=\"dataframe\">\n",
       "  <thead>\n",
       "    <tr style=\"text-align: right;\">\n",
       "      <th></th>\n",
       "      <th>predictedvalues</th>\n",
       "    </tr>\n",
       "  </thead>\n",
       "  <tbody>\n",
       "    <tr>\n",
       "      <th>0</th>\n",
       "      <td>sad</td>\n",
       "    </tr>\n",
       "    <tr>\n",
       "      <th>1</th>\n",
       "      <td>surprised</td>\n",
       "    </tr>\n",
       "    <tr>\n",
       "      <th>2</th>\n",
       "      <td>angry</td>\n",
       "    </tr>\n",
       "    <tr>\n",
       "      <th>3</th>\n",
       "      <td>sad</td>\n",
       "    </tr>\n",
       "    <tr>\n",
       "      <th>4</th>\n",
       "      <td>Happy</td>\n",
       "    </tr>\n",
       "    <tr>\n",
       "      <th>...</th>\n",
       "      <td>...</td>\n",
       "    </tr>\n",
       "    <tr>\n",
       "      <th>283</th>\n",
       "      <td>calm</td>\n",
       "    </tr>\n",
       "    <tr>\n",
       "      <th>284</th>\n",
       "      <td>surprised</td>\n",
       "    </tr>\n",
       "    <tr>\n",
       "      <th>285</th>\n",
       "      <td>Happy</td>\n",
       "    </tr>\n",
       "    <tr>\n",
       "      <th>286</th>\n",
       "      <td>angry</td>\n",
       "    </tr>\n",
       "    <tr>\n",
       "      <th>287</th>\n",
       "      <td>Happy</td>\n",
       "    </tr>\n",
       "  </tbody>\n",
       "</table>\n",
       "<p>288 rows × 1 columns</p>\n",
       "</div>"
      ],
      "text/plain": [
       "    predictedvalues\n",
       "0               sad\n",
       "1         surprised\n",
       "2             angry\n",
       "3               sad\n",
       "4             Happy\n",
       "..              ...\n",
       "283            calm\n",
       "284       surprised\n",
       "285           Happy\n",
       "286           angry\n",
       "287           Happy\n",
       "\n",
       "[288 rows x 1 columns]"
      ]
     },
     "execution_count": 48,
     "metadata": {},
     "output_type": "execute_result"
    }
   ],
   "source": [
    "preddf = pd.DataFrame({'predictedvalues': predictions})\n",
    "preddf"
   ]
  },
  {
   "cell_type": "code",
   "execution_count": 49,
   "metadata": {},
   "outputs": [],
   "source": [
    "actual=y_test.argmax(axis=1)\n",
    "abc123 = actual.astype(int).flatten()\n",
    "actualvalues = (lb.inverse_transform((abc123)))"
   ]
  },
  {
   "cell_type": "code",
   "execution_count": 50,
   "metadata": {},
   "outputs": [
    {
     "data": {
      "text/html": [
       "<div>\n",
       "<style scoped>\n",
       "    .dataframe tbody tr th:only-of-type {\n",
       "        vertical-align: middle;\n",
       "    }\n",
       "\n",
       "    .dataframe tbody tr th {\n",
       "        vertical-align: top;\n",
       "    }\n",
       "\n",
       "    .dataframe thead th {\n",
       "        text-align: right;\n",
       "    }\n",
       "</style>\n",
       "<table border=\"1\" class=\"dataframe\">\n",
       "  <thead>\n",
       "    <tr style=\"text-align: right;\">\n",
       "      <th></th>\n",
       "      <th>actualvalues</th>\n",
       "    </tr>\n",
       "  </thead>\n",
       "  <tbody>\n",
       "    <tr>\n",
       "      <th>0</th>\n",
       "      <td>Happy</td>\n",
       "    </tr>\n",
       "    <tr>\n",
       "      <th>1</th>\n",
       "      <td>angry</td>\n",
       "    </tr>\n",
       "    <tr>\n",
       "      <th>2</th>\n",
       "      <td>angry</td>\n",
       "    </tr>\n",
       "    <tr>\n",
       "      <th>3</th>\n",
       "      <td>sad</td>\n",
       "    </tr>\n",
       "    <tr>\n",
       "      <th>4</th>\n",
       "      <td>fearful</td>\n",
       "    </tr>\n",
       "    <tr>\n",
       "      <th>...</th>\n",
       "      <td>...</td>\n",
       "    </tr>\n",
       "    <tr>\n",
       "      <th>283</th>\n",
       "      <td>Happy</td>\n",
       "    </tr>\n",
       "    <tr>\n",
       "      <th>284</th>\n",
       "      <td>fearful</td>\n",
       "    </tr>\n",
       "    <tr>\n",
       "      <th>285</th>\n",
       "      <td>fearful</td>\n",
       "    </tr>\n",
       "    <tr>\n",
       "      <th>286</th>\n",
       "      <td>angry</td>\n",
       "    </tr>\n",
       "    <tr>\n",
       "      <th>287</th>\n",
       "      <td>Happy</td>\n",
       "    </tr>\n",
       "  </tbody>\n",
       "</table>\n",
       "<p>288 rows × 1 columns</p>\n",
       "</div>"
      ],
      "text/plain": [
       "    actualvalues\n",
       "0          Happy\n",
       "1          angry\n",
       "2          angry\n",
       "3            sad\n",
       "4        fearful\n",
       "..           ...\n",
       "283        Happy\n",
       "284      fearful\n",
       "285      fearful\n",
       "286        angry\n",
       "287        Happy\n",
       "\n",
       "[288 rows x 1 columns]"
      ]
     },
     "execution_count": 50,
     "metadata": {},
     "output_type": "execute_result"
    }
   ],
   "source": [
    "actualdf = pd.DataFrame({'actualvalues': actualvalues})\n",
    "actualdf"
   ]
  },
  {
   "cell_type": "code",
   "execution_count": 51,
   "metadata": {},
   "outputs": [],
   "source": [
    "finaldf = actualdf.join(preddf)"
   ]
  },
  {
   "cell_type": "markdown",
   "metadata": {},
   "source": [
    "## Actual v/s Predicted emotions"
   ]
  },
  {
   "cell_type": "code",
   "execution_count": 52,
   "metadata": {},
   "outputs": [
    {
     "data": {
      "text/html": [
       "<div>\n",
       "<style scoped>\n",
       "    .dataframe tbody tr th:only-of-type {\n",
       "        vertical-align: middle;\n",
       "    }\n",
       "\n",
       "    .dataframe tbody tr th {\n",
       "        vertical-align: top;\n",
       "    }\n",
       "\n",
       "    .dataframe thead th {\n",
       "        text-align: right;\n",
       "    }\n",
       "</style>\n",
       "<table border=\"1\" class=\"dataframe\">\n",
       "  <thead>\n",
       "    <tr style=\"text-align: right;\">\n",
       "      <th></th>\n",
       "      <th>actualvalues</th>\n",
       "      <th>predictedvalues</th>\n",
       "    </tr>\n",
       "  </thead>\n",
       "  <tbody>\n",
       "    <tr>\n",
       "      <th>0</th>\n",
       "      <td>Happy</td>\n",
       "      <td>sad</td>\n",
       "    </tr>\n",
       "    <tr>\n",
       "      <th>1</th>\n",
       "      <td>angry</td>\n",
       "      <td>surprised</td>\n",
       "    </tr>\n",
       "    <tr>\n",
       "      <th>2</th>\n",
       "      <td>angry</td>\n",
       "      <td>angry</td>\n",
       "    </tr>\n",
       "    <tr>\n",
       "      <th>3</th>\n",
       "      <td>sad</td>\n",
       "      <td>sad</td>\n",
       "    </tr>\n",
       "  </tbody>\n",
       "</table>\n",
       "</div>"
      ],
      "text/plain": [
       "  actualvalues predictedvalues\n",
       "0        Happy             sad\n",
       "1        angry       surprised\n",
       "2        angry           angry\n",
       "3          sad             sad"
      ]
     },
     "execution_count": 52,
     "metadata": {},
     "output_type": "execute_result"
    }
   ],
   "source": [
    "finaldf[0:4]"
   ]
  },
  {
   "cell_type": "code",
   "execution_count": 53,
   "metadata": {},
   "outputs": [
    {
     "data": {
      "text/html": [
       "<div>\n",
       "<style scoped>\n",
       "    .dataframe tbody tr th:only-of-type {\n",
       "        vertical-align: middle;\n",
       "    }\n",
       "\n",
       "    .dataframe tbody tr th {\n",
       "        vertical-align: top;\n",
       "    }\n",
       "\n",
       "    .dataframe thead th {\n",
       "        text-align: right;\n",
       "    }\n",
       "</style>\n",
       "<table border=\"1\" class=\"dataframe\">\n",
       "  <thead>\n",
       "    <tr style=\"text-align: right;\">\n",
       "      <th></th>\n",
       "      <th>predictedvalues</th>\n",
       "    </tr>\n",
       "    <tr>\n",
       "      <th>actualvalues</th>\n",
       "      <th></th>\n",
       "    </tr>\n",
       "  </thead>\n",
       "  <tbody>\n",
       "    <tr>\n",
       "      <th>Happy</th>\n",
       "      <td>39</td>\n",
       "    </tr>\n",
       "    <tr>\n",
       "      <th>angry</th>\n",
       "      <td>42</td>\n",
       "    </tr>\n",
       "    <tr>\n",
       "      <th>calm</th>\n",
       "      <td>33</td>\n",
       "    </tr>\n",
       "    <tr>\n",
       "      <th>disgust</th>\n",
       "      <td>41</td>\n",
       "    </tr>\n",
       "    <tr>\n",
       "      <th>fearful</th>\n",
       "      <td>48</td>\n",
       "    </tr>\n",
       "    <tr>\n",
       "      <th>neutral</th>\n",
       "      <td>18</td>\n",
       "    </tr>\n",
       "    <tr>\n",
       "      <th>sad</th>\n",
       "      <td>35</td>\n",
       "    </tr>\n",
       "    <tr>\n",
       "      <th>surprised</th>\n",
       "      <td>32</td>\n",
       "    </tr>\n",
       "  </tbody>\n",
       "</table>\n",
       "</div>"
      ],
      "text/plain": [
       "              predictedvalues\n",
       "actualvalues                 \n",
       "Happy                      39\n",
       "angry                      42\n",
       "calm                       33\n",
       "disgust                    41\n",
       "fearful                    48\n",
       "neutral                    18\n",
       "sad                        35\n",
       "surprised                  32"
      ]
     },
     "execution_count": 53,
     "metadata": {},
     "output_type": "execute_result"
    }
   ],
   "source": [
    "finaldf.groupby('actualvalues').count()"
   ]
  },
  {
   "cell_type": "code",
   "execution_count": 54,
   "metadata": {},
   "outputs": [
    {
     "data": {
      "text/html": [
       "<div>\n",
       "<style scoped>\n",
       "    .dataframe tbody tr th:only-of-type {\n",
       "        vertical-align: middle;\n",
       "    }\n",
       "\n",
       "    .dataframe tbody tr th {\n",
       "        vertical-align: top;\n",
       "    }\n",
       "\n",
       "    .dataframe thead th {\n",
       "        text-align: right;\n",
       "    }\n",
       "</style>\n",
       "<table border=\"1\" class=\"dataframe\">\n",
       "  <thead>\n",
       "    <tr style=\"text-align: right;\">\n",
       "      <th></th>\n",
       "      <th>actualvalues</th>\n",
       "    </tr>\n",
       "    <tr>\n",
       "      <th>predictedvalues</th>\n",
       "      <th></th>\n",
       "    </tr>\n",
       "  </thead>\n",
       "  <tbody>\n",
       "    <tr>\n",
       "      <th>Happy</th>\n",
       "      <td>96</td>\n",
       "    </tr>\n",
       "    <tr>\n",
       "      <th>angry</th>\n",
       "      <td>20</td>\n",
       "    </tr>\n",
       "    <tr>\n",
       "      <th>calm</th>\n",
       "      <td>61</td>\n",
       "    </tr>\n",
       "    <tr>\n",
       "      <th>disgust</th>\n",
       "      <td>34</td>\n",
       "    </tr>\n",
       "    <tr>\n",
       "      <th>sad</th>\n",
       "      <td>31</td>\n",
       "    </tr>\n",
       "    <tr>\n",
       "      <th>surprised</th>\n",
       "      <td>46</td>\n",
       "    </tr>\n",
       "  </tbody>\n",
       "</table>\n",
       "</div>"
      ],
      "text/plain": [
       "                 actualvalues\n",
       "predictedvalues              \n",
       "Happy                      96\n",
       "angry                      20\n",
       "calm                       61\n",
       "disgust                    34\n",
       "sad                        31\n",
       "surprised                  46"
      ]
     },
     "execution_count": 54,
     "metadata": {},
     "output_type": "execute_result"
    }
   ],
   "source": [
    "finaldf.groupby('predictedvalues').count()"
   ]
  },
  {
   "cell_type": "code",
   "execution_count": 55,
   "metadata": {},
   "outputs": [],
   "source": [
    "finaldf.to_csv('Predictions.csv', index=False)"
   ]
  },
  {
   "cell_type": "markdown",
   "metadata": {},
   "source": [
    "## Live Demo"
   ]
  },
  {
   "cell_type": "markdown",
   "metadata": {},
   "source": [
    "## you could find this track on below link:"
   ]
  },
  {
   "cell_type": "markdown",
   "metadata": {},
   "source": [
    "https://tuenl.sharepoint.com/sites/gad_cbo/JPC/MC/ESA%20PDEng%20ST%20Project/Forms/AllItems.aspx?viewid=235c9f56%2Db4dc%2D418e%2D8800%2Dd0cde58fff30&id=%2Fsites%2Fgad%5Fcbo%2FJPC%2FMC%2FESA%20PDEng%20ST%20Project%2FModelsAndData%2FAudio%2FDevelopment%2Fdata%2Ftone%5Fcnn%5Fhappy%5Fangry%5Fdataset%5Fsample%5Fprediction%5Ftracks"
   ]
  },
  {
   "cell_type": "code",
   "execution_count": 60,
   "metadata": {},
   "outputs": [],
   "source": [
    "# Walking a directory tree and getting the names and directories of the prediction files\n",
    "mydiclist={}\n",
    "curr_path = os.getcwd()\n",
    "crr_path = Path(curr_path)\n",
    "parent_path = crr_path.parent\n",
    "base_path= str(parent_path)+'\\\\data\\\\tone_cnn_prediction_dataset\\\\'\n",
    "for dirpath, dirnames, files in os.walk(base_path):\n",
    "    for file_name in files:\n",
    "        if file_name.endswith('.wav'):\n",
    "            mydiclist[file_name]= dirpath\n",
    "\n",
    "    \n",
    "#X, sample_rate = librosa.load(str(base_path) +'\\\\Recording_hateYou.wav', res_type='kaiser_fast',duration=2.5,sr=22050*2,offset=0.5)\n",
    "#sample_rate = np.array(sample_rate)\n",
    "#mfccs = np.mean(librosa.feature.mfcc(y=X, sr=sample_rate, n_mfcc=13),axis=0)\n",
    "#featurelive = mfccs\n",
    "#livedf2 = featurelive"
   ]
  },
  {
   "cell_type": "code",
   "execution_count": 61,
   "metadata": {},
   "outputs": [
    {
     "name": "stdout",
     "output_type": "stream",
     "text": [
      "1/1 [==============================] - 0s 2ms/step\n",
      "['multiple_silence_trimmed.wav  :  fearful']\n",
      "1/1 [==============================] - 0s 997us/step\n",
      "['Recording_hateYou.wav  :  surprised']\n"
     ]
    }
   ],
   "source": [
    "for key in mydiclist:\n",
    "    X, sample_rate = librosa.load(mydiclist[key]+'\\\\'+key, res_type='kaiser_fast',duration=2.5,sr=22050*2,offset=0.5)\n",
    "    sample_rate = np.array(sample_rate)\n",
    "    mfccs = np.mean(librosa.feature.mfcc(y=X, sr=sample_rate, n_mfcc=13),axis=0)\n",
    "    featurelive = mfccs\n",
    "    livedf2 = featurelive\n",
    "    livedf2= pd.DataFrame(data=livedf2)\n",
    "    livedf2 = livedf2.stack().to_frame().T\n",
    "    twodim= np.expand_dims(livedf2, axis=2)\n",
    "    livepreds = loaded_model.predict(twodim, \n",
    "                         batch_size=32, \n",
    "                         verbose=1)\n",
    "    livepreds1=livepreds.argmax(axis=1)\n",
    "    liveabc = livepreds1.astype(int).flatten()\n",
    "    livepredictions = (lb.inverse_transform((liveabc)))\n",
    "    print(key+\"  :  \"+ livepredictions)\n",
    "    "
   ]
  }
 ],
 "metadata": {
  "kernelspec": {
   "display_name": "Python 3",
   "language": "python",
   "name": "python3"
  },
  "language_info": {
   "codemirror_mode": {
    "name": "ipython",
    "version": 3
   },
   "file_extension": ".py",
   "mimetype": "text/x-python",
   "name": "python",
   "nbconvert_exporter": "python",
   "pygments_lexer": "ipython3",
   "version": "3.8.3"
  }
 },
 "nbformat": 4,
 "nbformat_minor": 2
}
