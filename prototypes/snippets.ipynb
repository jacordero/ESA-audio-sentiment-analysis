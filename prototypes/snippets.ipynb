{
 "cells": [
  {
   "cell_type": "markdown",
   "metadata": {},
   "source": [
    "## Download datasets and models from surfdrive"
   ]
  },
  {
   "cell_type": "code",
   "execution_count": 9,
   "metadata": {},
   "outputs": [],
   "source": [
    "import urllib.request\n",
    "import requests\n",
    "import numpy as np"
   ]
  },
  {
   "cell_type": "code",
   "execution_count": 7,
   "metadata": {},
   "outputs": [
    {
     "name": "stdout",
     "output_type": "stream",
     "text": [
      "200\n",
      "application/octet-stream\n",
      "None\n"
     ]
    }
   ],
   "source": [
    "#Download dataset from ESARepo/Audio/Datasets/Development\n",
    "\n",
    "url = \"https://surfdrive.surf.nl/files/index.php/s/KlU39g1GB9gq8ZN/download\"\n",
    "output_filename = \"../data/raw/example_dataset.npz\"\n",
    "\n",
    "r = requests.get(url)\n",
    "\n",
    "with open(output_filename, 'wb') as f:\n",
    "    f.write(r.content)"
   ]
  },
  {
   "cell_type": "code",
   "execution_count": 11,
   "metadata": {},
   "outputs": [
    {
     "data": {
      "text/plain": [
       "(34721, 25, 100, 3)"
      ]
     },
     "execution_count": 11,
     "metadata": {},
     "output_type": "execute_result"
    }
   ],
   "source": [
    "# quickly review downloaded dataset\n",
    "data = np.load(output_filename)['arr_0']\n",
    "data.shape"
   ]
  },
  {
   "cell_type": "code",
   "execution_count": 12,
   "metadata": {
    "pycharm": {
     "name": "#%%\n"
    }
   },
   "outputs": [],
   "source": [
    "#Download model from ESARepo/Audio/Models/Development\n",
    "url = \"https://surfdrive.surf.nl/files/index.php/s/PRb56AcTxTmPrKp/download\"\n",
    "output_filename = \"../models/example_model.h5\"\n",
    "\n",
    "r = requests.get(url)\n",
    "\n",
    "with open(output_filename, 'wb') as f:\n",
    "    f.write(r.content)"
   ]
  }
 ],
 "metadata": {
  "kernelspec": {
   "display_name": "Python 3",
   "language": "python",
   "name": "python3"
  },
  "language_info": {
   "codemirror_mode": {
    "name": "ipython",
    "version": 3
   },
   "file_extension": ".py",
   "mimetype": "text/x-python",
   "name": "python",
   "nbconvert_exporter": "python",
   "pygments_lexer": "ipython3",
   "version": "3.8.5"
  },
  "pycharm": {
   "stem_cell": {
    "cell_type": "raw",
    "metadata": {
     "collapsed": false
    },
    "source": []
   }
  }
 },
 "nbformat": 4,
 "nbformat_minor": 1
}
